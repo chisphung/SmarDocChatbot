{
 "cells": [
  {
   "cell_type": "code",
   "execution_count": null,
   "id": "0d7231c8",
   "metadata": {},
   "outputs": [
    {
     "name": "stderr",
     "output_type": "stream",
     "text": [
      "f:\\nexlab\\AI project 2\\SmarDocChatbot\\venv\\Lib\\site-packages\\tqdm\\auto.py:21: TqdmWarning: IProgress not found. Please update jupyter and ipywidgets. See https://ipywidgets.readthedocs.io/en/stable/user_install.html\n",
      "  from .autonotebook import tqdm as notebook_tqdm\n",
      "W0731 10:53:43.675000 20364 Lib\\site-packages\\torch\\distributed\\elastic\\multiprocessing\\redirects.py:29] NOTE: Redirects are currently not supported in Windows or MacOs.\n"
     ]
    }
   ],
   "source": [
    "from llama_index.vector_stores.chroma import ChromaVectorStore\n",
    "from llama_index.embeddings.huggingface import HuggingFaceEmbedding\n",
    "import chromadb\n",
    "from llama_index.core import StorageContext, VectorStoreIndex, Settings, Document\n",
    "from llama_index.core.memory import ChatMemoryBuffer\n",
    "from llama_index.core.node_parser import SentenceSplitter\n",
    "\n",
    "\n",
    "\n",
    "class ChatEngine():\n",
    "    def __init__(self, llm , docs: list[Document] = [],  collection_name: str = \"docs\", embed_model = HuggingFaceEmbedding(), token_limit :int = 8000, chroma_db_path: str = \"./chroma_db\"):\n",
    "        \n",
    "        self.docs = docs\n",
    "        self.collection_name = collection_name\n",
    "        self.chroma_db_path = chroma_db_path\n",
    "        self.embed_model = embed_model\n",
    "        self.token_limit = token_limit\n",
    "        self.splitter = SentenceSplitter(chunk_size=512, chunk_overlap=200)\n",
    "        # Lưu tạm vào Chroma \n",
    "        chroma_client = chromadb.PersistentClient(path= chroma_db_path)\n",
    "        \n",
    "       \n",
    "        nodes = self.splitter.get_nodes_from_documents(docs_a)\n",
    "\n",
    "        # 3. Nếu collection đã tồn tại, load lại. Nếu chưa, tạo mới.\n",
    "        chroma_collection = chroma_client.get_or_create_collection(collection_name)\n",
    "        vector_store = ChromaVectorStore(chroma_collection=chroma_collection)\n",
    "        storage_context = StorageContext.from_defaults(vector_store=vector_store)\n",
    "\n",
    "        self.index = VectorStoreIndex(\n",
    "            nodes, storage_context=storage_context, embed_model=embed_model, store_nodes_override=True\n",
    "        )\n",
    "        Settings.llm = llm                   # vô hiệu hóa LLM dùng OpenAI\n",
    "        self.memory = ChatMemoryBuffer.from_defaults(token_limit=token_limit)\n",
    "        self.chat_engine = self.index.as_chat_engine(chat_mode=\"context\", memory=self.memory)\n",
    "    def chat(self, message):\n",
    "        if self.chat_engine:\n",
    "            response = self.chat_engine.chat(message)\n",
    "            return response\n",
    "        else:\n",
    "            return \"Lỗi khi tạo mô hình\"\n",
    "    def chat2(self, message):\n",
    "        if self.chat_engine:\n",
    "            query_engine = self.index.as_query_engine(similarity_top_k=5)\n",
    "            result = query_engine.query(message)\n",
    "            print(\"🔎 Các đoạn được truy xuất:\")\n",
    "            for node in result.source_nodes:\n",
    "                print(\"-\" * 80)\n",
    "                print(node.node.text[:500])\n",
    "            return result.response\n",
    "        else:\n",
    "            return \"Lỗi khi tạo mô hình\"\n",
    "\n",
    "    def update_docs(self, new_docs: list[Document]):\n",
    "        self.docs.extend(new_docs)\n",
    "        nodes = self.splitter.get_nodes_from_documents(new_docs)\n",
    "        self.index.insert_nodes(nodes)\n",
    "        self.chat_engine = self.index.as_chat_engine(chat_mode='context', memory=self.memory)\n",
    "\n",
    "        \n",
    "\n",
    "from llama_index.core import VectorStoreIndex, Document\n",
    "from llama_index.readers.file import PyMuPDFReader,DocxReader, PandasExcelReader \n",
    "\n",
    "\n",
    "def read_uploaded_file(file_path) -> list[Document] | None:\n",
    "\n",
    "    filename = file_path.name if hasattr(file_path, \"name\") else str(file_path)\n",
    "    ext = filename.lower().split('.')[-1]\n",
    "    with open(file_path, \"rb\") as f:\n",
    "        file_bytes = f.read()\n",
    "\n",
    "    if ext == \"pdf\":\n",
    "        pdf_loader = PyMuPDFReader()\n",
    "        documents = pdf_loader.load(file_path=file_path)\n",
    "    elif ext == \"docx\":\n",
    "        docx_loader = DocxReader()\n",
    "        documents = docx_loader.load_data(file  = file_path)\n",
    "    elif ext in [\"xls\", \"xlsx\"]:\n",
    "        excel_loader = PandasExcelReader()\n",
    "        documents = excel_loader.load_data(file = file_path)\n",
    "    elif ext == \"txt\":\n",
    "        text = file_bytes.decode(\"utf-8\")\n",
    "        documents =  [Document(text=text, metadata={\"filename\": filename})]\n",
    "    else:\n",
    "        return None\n",
    "\n",
    "    return documents\n",
    "\n",
    "\n",
    "import os\n",
    "from dotenv import load_dotenv\n",
    "load_dotenv()\n",
    "from llama_index.llms.openai_like import OpenAILike\n",
    "from llama_index.llms.openai import OpenAI\n",
    "\n",
    "api_key = os.getenv(\"OPENAI_API_KEY\")\n",
    "\n",
    "# llm=OpenAILike(model=\"qwen/qwen3-coder:free\",\n",
    "#         api_key = api_key,\n",
    "#         temperature = 0.0,\n",
    "\n",
    "#         api_base = \"https://openrouter.ai/api/v1\",\n",
    "#         is_chat_model=True,\n",
    "#         is_function_calling_model=True, \n",
    "# )\n",
    "llm = OpenAI(model=\"gpt-4.1-2025-04-14\",\n",
    "             temperature=0\n",
    "             )\n",
    "\n",
    "embed_model = HuggingFaceEmbedding(model_name=\"all-MiniLM-L6-v2\", max_length=8000)\n",
    "docs_a = read_uploaded_file(r\"C:\\Users\\ACER\\Desktop\\nhan xet.docx\")\n",
    "\n",
    "new_doc = read_uploaded_file(r\"C:\\Users\\ACER\\Desktop\\BTVN\\BTVN GB12.xlsx\")\n",
    "chatEngine = ChatEngine(llm=llm,embed_model=embed_model, collection_name=\"final_9\")\n",
    "chatEngine.update_docs(new_doc)\n",
    "chatEngine.update_docs(docs_a)\n",
    "\n",
    "\n",
    "\n"
   ]
  },
  {
   "cell_type": "code",
   "execution_count": null,
   "id": "744dfd89",
   "metadata": {},
   "outputs": [
    {
     "name": "stderr",
     "output_type": "stream",
     "text": [
      "f:\\nexlab\\AI project 2\\SmarDocChatbot\\venv\\Lib\\site-packages\\tqdm\\auto.py:21: TqdmWarning: IProgress not found. Please update jupyter and ipywidgets. See https://ipywidgets.readthedocs.io/en/stable/user_install.html\n",
      "  from .autonotebook import tqdm as notebook_tqdm\n",
      "W0731 23:44:35.634000 12944 Lib\\site-packages\\torch\\distributed\\elastic\\multiprocessing\\redirects.py:29] NOTE: Redirects are currently not supported in Windows or MacOs.\n"
     ]
    }
   ],
   "source": [
    "from llama_index.vector_stores.chroma import ChromaVectorStore\n",
    "from llama_index.embeddings.huggingface import HuggingFaceEmbedding\n",
    "import chromadb\n",
    "from llama_index.core import StorageContext, VectorStoreIndex, Settings, Document\n",
    "from llama_index.core.memory import ChatMemoryBuffer\n",
    "\n",
    "\n",
    "class ChatEngine():\n",
    "    def __init__(self, llm , collection_name: str = \"docs\", embed_model = HuggingFaceEmbedding(\"all-MiniLM-L6-v2\"), token_limit :int = 4000, chroma_db_path: str = \"./chroma_db\"):\n",
    "        \n",
    "        self.docs = []\n",
    "        self.collection_name = collection_name\n",
    "        self.chroma_db_path = chroma_db_path\n",
    "        self.embed_model = embed_model\n",
    "        self.token_limit = token_limit\n",
    "        self.llm = llm\n",
    "        self.memory = ChatMemoryBuffer.from_defaults(token_limit=self.token_limit)\n",
    "        Settings.llm = self.llm                   # vô hiệu hóa LLM dùng OpenAI\n",
    "        self.chat_engine = None\n",
    "    def load_old_docs(self):\n",
    "        chroma_client = chromadb.PersistentClient(path=self.chroma_db_path)\n",
    "        chroma_collection = chroma_client.get_collection(self.collection_name)\n",
    "        vector_store = ChromaVectorStore(chroma_collection=chroma_collection)\n",
    "        storage_context = StorageContext.from_defaults(vector_store=vector_store)\n",
    "\n",
    "        self.index = VectorStoreIndex.from_vector_store(\n",
    "            vector_store=vector_store, storage_context=storage_context, embed_model=self.embed_model, store_nodes_override=True\n",
    "        )\n",
    "        self.chat_engine = self.index.as_chat_engine(chat_mode=\"condense_plus_context\", memory=self.memory)\n",
    "\n",
    "    def create_new_index(self):\n",
    "        chroma_client = chromadb.PersistentClient(path=self.chroma_db_path)\n",
    "        chroma_collection = chroma_client.create_collection(self.collection_name)\n",
    "        vector_store = ChromaVectorStore(chroma_collection=chroma_collection)\n",
    "        storage_context = StorageContext.from_defaults(vector_store=vector_store)\n",
    "\n",
    "        self.index = VectorStoreIndex.from_documents(\n",
    "            self.docs, storage_context=storage_context, embed_model=self.embed_model)\n",
    "        Settings.llm = self.llm                   # vô hiệu hóa LLM dùng OpenAI\n",
    "        self.memory = ChatMemoryBuffer.from_defaults(token_limit=self.token_limit)\n",
    "        self.chat_engine = self.index.as_chat_engine(chat_mode=\"condense_plus_context\", memory=self.memory)\n",
    "            \n",
    "        \n",
    "    def load_docs(self,new_docs: list[Document]):\n",
    "        self.docs = new_docs\n",
    "        chroma_client = chromadb.PersistentClient(path=self.chroma_db_path)\n",
    "        existing_collections = [c.name for c in chroma_client.list_collections()]\n",
    "        if self.collection_name in existing_collections:\n",
    "            self.load_old_docs()\n",
    "            self.index.refresh_ref_docs(new_docs)\n",
    "            self.chat_engine = self.index.as_chat_engine(chat_mode='condense_plus_context', memory=self.memory)\n",
    "        else:\n",
    "            self.create_new_index()\n",
    "            \n",
    "    def chat(self, message):\n",
    "        if self.chat_engine:\n",
    "            response = self.chat_engine.chat(message)\n",
    "            return response\n",
    "        else:\n",
    "            return \"Lỗi khi tạo mô hình\"\n",
    "\n",
    "    def update_docs(self, new_docs: list[Document]):\n",
    "        self.docs.extend(new_docs)\n",
    "        self.index = self.index.from_documents(self.docs)\n",
    "        self.chat_engine = self.index.as_chat_engine(chat_mode='condense_plus_context', memory=self.memory)\n",
    "        \n"
   ]
  },
  {
   "cell_type": "code",
   "execution_count": 2,
   "id": "dc6dab38",
   "metadata": {},
   "outputs": [],
   "source": [
    "from llama_index.core import VectorStoreIndex, Document\n",
    "from llama_index.readers.file import PyMuPDFReader,DocxReader, PandasExcelReader \n",
    "\n",
    "\n",
    "def read_uploaded_file(file_path) -> list[Document] | None:\n",
    "\n",
    "    filename = file_path.name if hasattr(file_path, \"name\") else str(file_path)\n",
    "    ext = filename.lower().split('.')[-1]\n",
    "    with open(file_path, \"rb\") as f:\n",
    "        file_bytes = f.read()\n",
    "\n",
    "    if ext == \"pdf\":\n",
    "        pdf_loader = PyMuPDFReader()\n",
    "        documents = pdf_loader.load(file_path=file_path)\n",
    "    elif ext == \"docx\":\n",
    "        docx_loader = DocxReader()\n",
    "        documents = docx_loader.load_data(file  = file_path)\n",
    "    elif ext in [\"xls\", \"xlsx\"]:\n",
    "        excel_loader = PandasExcelReader()\n",
    "        documents = excel_loader.load_data(file = file_path)\n",
    "    elif ext == \"txt\":\n",
    "        text = file_bytes.decode(\"utf-8\")\n",
    "        documents =  [Document(text=text, metadata={\"filename\": filename})]\n",
    "    else:\n",
    "        return None\n",
    "\n",
    "    return documents\n",
    "\n"
   ]
  },
  {
   "cell_type": "code",
   "execution_count": 3,
   "id": "df602006",
   "metadata": {},
   "outputs": [],
   "source": [
    "\n",
    "\n",
    "import os\n",
    "from dotenv import load_dotenv\n",
    "load_dotenv()\n",
    "from llama_index.llms.openai_like import OpenAILike\n",
    "from llama_index.llms.openai import OpenAI\n",
    "\n",
    "api_key = os.getenv(\"OPENAI_API_KEY\")\n",
    "\n",
    "# llm=OpenAILike(model=\"qwen/qwen3-coder:free\",\n",
    "#         api_key = api_key,\n",
    "#         temperature = 0.0,\n",
    "\n",
    "#         api_base = \"https://openrouter.ai/api/v1\",\n",
    "#         is_chat_model=True,\n",
    "#         is_function_calling_model=True, \n",
    "# )\n",
    "llm = OpenAI(model=\"gpt-4.1-2025-04-14\",\n",
    "             temperature=0\n",
    "             )\n",
    "embed_model = HuggingFaceEmbedding(model_name=\"sentence-transformers/all-MiniLM-L6-v2\")\n",
    "docs_a = read_uploaded_file(r\"C:\\Users\\ACER\\Desktop\\nhan xet.docx\")\n",
    "\n",
    "new_doc = read_uploaded_file(r\"C:\\Users\\ACER\\Desktop\\BTVN\\BTVN GB12.xlsx\")\n",
    "chatEngine = ChatEngine(llm=llm,embed_model=embed_model, collection_name=\"final2\", chroma_db_path=\"./db\", token_limit=1024)\n",
    "\n"
   ]
  },
  {
   "cell_type": "code",
   "execution_count": 4,
   "id": "211ba101",
   "metadata": {},
   "outputs": [
    {
     "ename": "AttributeError",
     "evalue": "'ChatEngine' object has no attribute 'index'",
     "output_type": "error",
     "traceback": [
      "\u001b[31m---------------------------------------------------------------------------\u001b[39m",
      "\u001b[31mAttributeError\u001b[39m                            Traceback (most recent call last)",
      "\u001b[36mCell\u001b[39m\u001b[36m \u001b[39m\u001b[32mIn[4]\u001b[39m\u001b[32m, line 12\u001b[39m\n\u001b[32m      7\u001b[39m storage_context = StorageContext.from_defaults(vector_store=vector_store)\n\u001b[32m      9\u001b[39m index = VectorStoreIndex.from_vector_store(\n\u001b[32m     10\u001b[39m     vector_store=vector_store, storage_context=storage_context, embed_model=chatEngine.embed_model\n\u001b[32m     11\u001b[39m )\n\u001b[32m---> \u001b[39m\u001b[32m12\u001b[39m chat = \u001b[43mchatEngine\u001b[49m\u001b[43m.\u001b[49m\u001b[43mindex\u001b[49m.as_chat_engine(chat_mode=\u001b[33m\"\u001b[39m\u001b[33mcontext\u001b[39m\u001b[33m\"\u001b[39m, memory=chatEngine.memory)\n",
      "\u001b[31mAttributeError\u001b[39m: 'ChatEngine' object has no attribute 'index'"
     ]
    }
   ],
   "source": [
    "chroma_client = chromadb.PersistentClient(path=chatEngine.chroma_db_path)\n",
    "existing_collections = [c.name for c in chroma_client.list_collections()]\n",
    "if chatEngine.collection_name in existing_collections:\n",
    "    chroma_client = chromadb.PersistentClient(path=chatEngine.chroma_db_path)\n",
    "    chroma_collection = chroma_client.get_collection(chatEngine.collection_name)\n",
    "    vector_store = ChromaVectorStore.from_collection(chroma_collection)\n",
    "    storage_context = StorageContext.from_defaults(vector_store=vector_store)\n",
    "\n",
    "    index = VectorStoreIndex.from_vector_store(\n",
    "        vector_store=vector_store, storage_context=storage_context, embed_model=chatEngine.embed_model\n",
    "    )\n",
    "    chat = chatEngine.index.as_chat_engine(chat_mode=\"context\", memory=chatEngine.memory)"
   ]
  },
  {
   "cell_type": "code",
   "execution_count": 6,
   "id": "527bf470",
   "metadata": {},
   "outputs": [
    {
     "data": {
      "text/plain": [
       "AgentChatResponse(response='Dưới đây là thông tin điểm của bạn Hà Gia Bảo:\\n\\n**Bảng điểm tổng hợp:**\\n- Họ và tên: Hà Gia Bảo\\n- Rank: 2\\n- Điểm cộng: 1.0\\n- Lý thuyết (TN): 3.5\\n- Thực hành (TH): 5.0\\n- Ghi chú (note): 1 5 7\\n- Tổng điểm: 9.5\\n\\n**Chi tiết điểm các buổi (nếu cần):**\\nHiện tại trong bảng chi tiết các buổi, không thấy có dòng điểm tương ứng với Hà Gia Bảo. Nếu bạn cần chi tiết từng buổi, vui lòng xác nhận lại hoặc cung cấp thêm thông tin.\\n\\nNếu cần thêm thông tin nào khác về bạn Gia Bảo, bạn cứ hỏi nhé!', sources=[ToolOutput(blocks=[TextBlock(block_type='text', text=\"[NodeWithScore(node=TextNode(id_='72598887-03af-4d58-ac00-f8f6df6b2c6c', embedding=None, metadata={}, excluded_embed_metadata_keys=[], excluded_llm_metadata_keys=[], relationships={<NodeRelationship.SOURCE: '1'>: RelatedNodeInfo(node_id='e11aca32-8ee6-449d-966c-a2d32f5e2d78', node_type='4', metadata={}, hash='5abc971714457adc3ce6b453b1b88b8d685f7cb17b42c70eef37c8b55e063120')}, metadata_template='{key}: {value}', metadata_separator='\\\\n', text='STT: 1, Họ và tên học viên: Hà Gia Bảo, Rank: 2, Điểm cộng: 1.0, TN: 3.5, TH: 5.0, note: 1 5 7, Tổng: 9.5, Unnamed: 8: 0.0\\\\nSTT: 2, Họ và tên học viên: Vũ Minh Triết, Rank: 3, Điểm cộng: 0.35, TN: 3.5, TH: 3.5, note: 4 5 9\\\\nDùng speed và direction để lập trình thay vì dùng hspeed, vspeed,\\\\nChưa đổi sprite\\\\nPhần đếm chưa tối ưu, Tổng: 7.35, Unnamed: 8: 0.0\\\\nSTT: 3, Họ và tên học viên: Hà Duy Khôi, Rank: 5, Điểm cộng: 0.0, TN: 4.0, TH: 4.5, note: 2 9\\\\nThiếu phần xóa object, Tổng: 8.5, Unnamed: 8: 0.0\\\\nSTT: 4, Họ và tên học viên: Trần Thanh Bình, Rank: 4, Điểm cộng: 0.2, TN: 3.5, TH: 4.5, note: 2 3 5\\\\nChưa xóa được object (chưa đặt lại biến step), Tổng: 8.2, Unnamed: 8: 0.0\\\\nSTT: 5, Họ và tên học viên: Lê Tuấn Kiệt, Rank: 1, Điểm cộng: 1.25, TN: 4.5, TH: 5.0, note: 9, Tổng: 10.75, Unnamed: 8: 0.75', mimetype='text/plain', start_char_idx=0, end_char_idx=796, metadata_seperator='\\\\n', text_template='{metadata_str}\\\\n\\\\n{content}'), score=0.34428002888066667), NodeWithScore(node=TextNode(id_='a4bd03af-90d0-4873-9588-822a56b71603', embedding=None, metadata={}, excluded_embed_metadata_keys=[], excluded_llm_metadata_keys=[], relationships={<NodeRelationship.SOURCE: '1'>: RelatedNodeInfo(node_id='8f71271e-a672-470d-8576-f5ba806947b8', node_type='4', metadata={}, hash='6dadf8e7be27f4049becdbcff25f72947ba91129dbac557e684ada6c8b290ce2'), <NodeRelationship.NEXT: '3'>: RelatedNodeInfo(node_id='fa13b43b-5fd1-46de-9215-0ae7a50b32ae', node_type='1', metadata={}, hash='26ea9de1ec70c5b524d5d82589f67284344b62475aeecd1af797a5035ffa9c4c')}, metadata_template='{key}: {value}', metadata_separator='\\\\n', text='Unnamed: 0: BẢNG ĐIỂM BÀI TẬP VỀ NHÀ BUỔI 1 - 4 CỦA LỚP GB12, Unnamed: 1: , Unnamed: 2: , Unnamed: 3: , Unnamed: 4: , Unnamed: 5: , Unnamed: 6: , Unnamed: 7: , Unnamed: 8: , Unnamed: 9: , Unnamed: 10: , Unnamed: 11: \\\\nUnnamed: 0: , Unnamed: 1: , Unnamed: 2: , Unnamed: 3: , Unnamed: 4: , Unnamed: 5: , Unnamed: 6: , Unnamed: 7: , Unnamed: 8: , Unnamed: 9: , Unnamed: 10: , Unnamed: 11: \\\\nUnnamed: 0: STT, Unnamed: 1: Họ và tên học viên, Unnamed: 2: Buổi 1, Unnamed: 3: , Unnamed: 4: Buổi 2, Unnamed: 5: , Unnamed: 6: Buổi 3, Unnamed: 7: , Unnamed: 8: Buổi 4, Unnamed: 9: , Unnamed: 10: Buổi 6, Unnamed: 11: \\\\nUnnamed: 0: , Unnamed: 1: , Unnamed: 2: Lý thuyết, Unnamed: 3: Thực hành, Unnamed: 4: Lý thuyết, Unnamed: 5: Thực hành, Unnamed: 6: Lý thuyết, Unnamed: 7: Thực hành, Unnamed: 8: Lý thuyết, Unnamed: 9: Thực hành, Unnamed: 10: Lý thuyết, Unnamed: 11: Thực hành\\\\nUnnamed: 0: 1, Unnamed: 1: Lương Tiến Phong, Unnamed: 2: 40, Unnamed: 3: 0, Unnamed: 4: 60, Unnamed: 5: -, Unnamed: 6: 50, Unnamed: 7: 0, Unnamed: 8: 40, Unnamed: 9: -, Unnamed: 10: 40, Unnamed: 11: -\\\\nUnnamed: 0: 2, Unnamed: 1: Vũ Minh Triết, Unnamed: 2: 60, Unnamed: 3: 100, Unnamed: 4: 50, Unnamed: 5: 100, Unnamed: 6: 70, Unnamed: 7: 100, Unnamed: 8: 90, Unnamed: 9: 86, Unnamed: 10: 60, Unnamed: 11: 0\\\\nUnnamed: 0: 3, Unnamed: 1: Hà Duy Khôi, Unnamed: 2: 90, Unnamed: 3: 90, Unnamed: 4: 30, Unnamed: 5: 75, Unnamed: 6: 30, Unnamed: 7: 66, Unnamed: 8: 70, Unnamed: 9: 100, Unnamed: 10: 70, Unnamed: 11: -\\\\nUnnamed: 0: 4, Unnamed: 1: Phan Minh Khang, Unnamed: 2: 40, Unnamed: 3: 100, Unnamed: 4: 60, Unnamed: 5: 0, Unnamed: 6: 40, Unnamed: 7: 0, Unnamed: 8: 70, Unnamed: 9: -, Unnamed: 10: 70, Unnamed: 11: 70\\\\nUnnamed: 0: 5, Unnamed: 1: Trần Thanh Bình, Unnamed: 2: 90, Unnamed: 3: 100, Unnamed: 4: 30, Unnamed: 5: 0, Unnamed: 6: 90, Unnamed: 7: 100, Unnamed: 8: 70, Unnamed: 9: -, Unnamed: 10: 50, Unnamed: 11: 95\\\\nUnnamed: 0: 6, Unnamed: 1: Lê Tuấn Kiệt, Unnamed: 2: 80,', mimetype='text/plain', start_char_idx=0, end_char_idx=1936, metadata_seperator='\\\\n', text_template='{metadata_str}\\\\n\\\\n{content}'), score=0.28605677337643953)]\")], tool_name='retriever', raw_input={'message': 'bạn cho mình xin thông tin điểm của bạn Gia Bảo với'}, raw_output=[NodeWithScore(node=TextNode(id_='72598887-03af-4d58-ac00-f8f6df6b2c6c', embedding=None, metadata={}, excluded_embed_metadata_keys=[], excluded_llm_metadata_keys=[], relationships={<NodeRelationship.SOURCE: '1'>: RelatedNodeInfo(node_id='e11aca32-8ee6-449d-966c-a2d32f5e2d78', node_type='4', metadata={}, hash='5abc971714457adc3ce6b453b1b88b8d685f7cb17b42c70eef37c8b55e063120')}, metadata_template='{key}: {value}', metadata_separator='\\n', text='STT: 1, Họ và tên học viên: Hà Gia Bảo, Rank: 2, Điểm cộng: 1.0, TN: 3.5, TH: 5.0, note: 1 5 7, Tổng: 9.5, Unnamed: 8: 0.0\\nSTT: 2, Họ và tên học viên: Vũ Minh Triết, Rank: 3, Điểm cộng: 0.35, TN: 3.5, TH: 3.5, note: 4 5 9\\nDùng speed và direction để lập trình thay vì dùng hspeed, vspeed,\\nChưa đổi sprite\\nPhần đếm chưa tối ưu, Tổng: 7.35, Unnamed: 8: 0.0\\nSTT: 3, Họ và tên học viên: Hà Duy Khôi, Rank: 5, Điểm cộng: 0.0, TN: 4.0, TH: 4.5, note: 2 9\\nThiếu phần xóa object, Tổng: 8.5, Unnamed: 8: 0.0\\nSTT: 4, Họ và tên học viên: Trần Thanh Bình, Rank: 4, Điểm cộng: 0.2, TN: 3.5, TH: 4.5, note: 2 3 5\\nChưa xóa được object (chưa đặt lại biến step), Tổng: 8.2, Unnamed: 8: 0.0\\nSTT: 5, Họ và tên học viên: Lê Tuấn Kiệt, Rank: 1, Điểm cộng: 1.25, TN: 4.5, TH: 5.0, note: 9, Tổng: 10.75, Unnamed: 8: 0.75', mimetype='text/plain', start_char_idx=0, end_char_idx=796, metadata_seperator='\\n', text_template='{metadata_str}\\n\\n{content}'), score=0.34428002888066667), NodeWithScore(node=TextNode(id_='a4bd03af-90d0-4873-9588-822a56b71603', embedding=None, metadata={}, excluded_embed_metadata_keys=[], excluded_llm_metadata_keys=[], relationships={<NodeRelationship.SOURCE: '1'>: RelatedNodeInfo(node_id='8f71271e-a672-470d-8576-f5ba806947b8', node_type='4', metadata={}, hash='6dadf8e7be27f4049becdbcff25f72947ba91129dbac557e684ada6c8b290ce2'), <NodeRelationship.NEXT: '3'>: RelatedNodeInfo(node_id='fa13b43b-5fd1-46de-9215-0ae7a50b32ae', node_type='1', metadata={}, hash='26ea9de1ec70c5b524d5d82589f67284344b62475aeecd1af797a5035ffa9c4c')}, metadata_template='{key}: {value}', metadata_separator='\\n', text='Unnamed: 0: BẢNG ĐIỂM BÀI TẬP VỀ NHÀ BUỔI 1 - 4 CỦA LỚP GB12, Unnamed: 1: , Unnamed: 2: , Unnamed: 3: , Unnamed: 4: , Unnamed: 5: , Unnamed: 6: , Unnamed: 7: , Unnamed: 8: , Unnamed: 9: , Unnamed: 10: , Unnamed: 11: \\nUnnamed: 0: , Unnamed: 1: , Unnamed: 2: , Unnamed: 3: , Unnamed: 4: , Unnamed: 5: , Unnamed: 6: , Unnamed: 7: , Unnamed: 8: , Unnamed: 9: , Unnamed: 10: , Unnamed: 11: \\nUnnamed: 0: STT, Unnamed: 1: Họ và tên học viên, Unnamed: 2: Buổi 1, Unnamed: 3: , Unnamed: 4: Buổi 2, Unnamed: 5: , Unnamed: 6: Buổi 3, Unnamed: 7: , Unnamed: 8: Buổi 4, Unnamed: 9: , Unnamed: 10: Buổi 6, Unnamed: 11: \\nUnnamed: 0: , Unnamed: 1: , Unnamed: 2: Lý thuyết, Unnamed: 3: Thực hành, Unnamed: 4: Lý thuyết, Unnamed: 5: Thực hành, Unnamed: 6: Lý thuyết, Unnamed: 7: Thực hành, Unnamed: 8: Lý thuyết, Unnamed: 9: Thực hành, Unnamed: 10: Lý thuyết, Unnamed: 11: Thực hành\\nUnnamed: 0: 1, Unnamed: 1: Lương Tiến Phong, Unnamed: 2: 40, Unnamed: 3: 0, Unnamed: 4: 60, Unnamed: 5: -, Unnamed: 6: 50, Unnamed: 7: 0, Unnamed: 8: 40, Unnamed: 9: -, Unnamed: 10: 40, Unnamed: 11: -\\nUnnamed: 0: 2, Unnamed: 1: Vũ Minh Triết, Unnamed: 2: 60, Unnamed: 3: 100, Unnamed: 4: 50, Unnamed: 5: 100, Unnamed: 6: 70, Unnamed: 7: 100, Unnamed: 8: 90, Unnamed: 9: 86, Unnamed: 10: 60, Unnamed: 11: 0\\nUnnamed: 0: 3, Unnamed: 1: Hà Duy Khôi, Unnamed: 2: 90, Unnamed: 3: 90, Unnamed: 4: 30, Unnamed: 5: 75, Unnamed: 6: 30, Unnamed: 7: 66, Unnamed: 8: 70, Unnamed: 9: 100, Unnamed: 10: 70, Unnamed: 11: -\\nUnnamed: 0: 4, Unnamed: 1: Phan Minh Khang, Unnamed: 2: 40, Unnamed: 3: 100, Unnamed: 4: 60, Unnamed: 5: 0, Unnamed: 6: 40, Unnamed: 7: 0, Unnamed: 8: 70, Unnamed: 9: -, Unnamed: 10: 70, Unnamed: 11: 70\\nUnnamed: 0: 5, Unnamed: 1: Trần Thanh Bình, Unnamed: 2: 90, Unnamed: 3: 100, Unnamed: 4: 30, Unnamed: 5: 0, Unnamed: 6: 90, Unnamed: 7: 100, Unnamed: 8: 70, Unnamed: 9: -, Unnamed: 10: 50, Unnamed: 11: 95\\nUnnamed: 0: 6, Unnamed: 1: Lê Tuấn Kiệt, Unnamed: 2: 80,', mimetype='text/plain', start_char_idx=0, end_char_idx=1936, metadata_seperator='\\n', text_template='{metadata_str}\\n\\n{content}'), score=0.28605677337643953)], is_error=False)], source_nodes=[NodeWithScore(node=TextNode(id_='72598887-03af-4d58-ac00-f8f6df6b2c6c', embedding=None, metadata={}, excluded_embed_metadata_keys=[], excluded_llm_metadata_keys=[], relationships={<NodeRelationship.SOURCE: '1'>: RelatedNodeInfo(node_id='e11aca32-8ee6-449d-966c-a2d32f5e2d78', node_type='4', metadata={}, hash='5abc971714457adc3ce6b453b1b88b8d685f7cb17b42c70eef37c8b55e063120')}, metadata_template='{key}: {value}', metadata_separator='\\n', text='STT: 1, Họ và tên học viên: Hà Gia Bảo, Rank: 2, Điểm cộng: 1.0, TN: 3.5, TH: 5.0, note: 1 5 7, Tổng: 9.5, Unnamed: 8: 0.0\\nSTT: 2, Họ và tên học viên: Vũ Minh Triết, Rank: 3, Điểm cộng: 0.35, TN: 3.5, TH: 3.5, note: 4 5 9\\nDùng speed và direction để lập trình thay vì dùng hspeed, vspeed,\\nChưa đổi sprite\\nPhần đếm chưa tối ưu, Tổng: 7.35, Unnamed: 8: 0.0\\nSTT: 3, Họ và tên học viên: Hà Duy Khôi, Rank: 5, Điểm cộng: 0.0, TN: 4.0, TH: 4.5, note: 2 9\\nThiếu phần xóa object, Tổng: 8.5, Unnamed: 8: 0.0\\nSTT: 4, Họ và tên học viên: Trần Thanh Bình, Rank: 4, Điểm cộng: 0.2, TN: 3.5, TH: 4.5, note: 2 3 5\\nChưa xóa được object (chưa đặt lại biến step), Tổng: 8.2, Unnamed: 8: 0.0\\nSTT: 5, Họ và tên học viên: Lê Tuấn Kiệt, Rank: 1, Điểm cộng: 1.25, TN: 4.5, TH: 5.0, note: 9, Tổng: 10.75, Unnamed: 8: 0.75', mimetype='text/plain', start_char_idx=0, end_char_idx=796, metadata_seperator='\\n', text_template='{metadata_str}\\n\\n{content}'), score=0.34428002888066667), NodeWithScore(node=TextNode(id_='a4bd03af-90d0-4873-9588-822a56b71603', embedding=None, metadata={}, excluded_embed_metadata_keys=[], excluded_llm_metadata_keys=[], relationships={<NodeRelationship.SOURCE: '1'>: RelatedNodeInfo(node_id='8f71271e-a672-470d-8576-f5ba806947b8', node_type='4', metadata={}, hash='6dadf8e7be27f4049becdbcff25f72947ba91129dbac557e684ada6c8b290ce2'), <NodeRelationship.NEXT: '3'>: RelatedNodeInfo(node_id='fa13b43b-5fd1-46de-9215-0ae7a50b32ae', node_type='1', metadata={}, hash='26ea9de1ec70c5b524d5d82589f67284344b62475aeecd1af797a5035ffa9c4c')}, metadata_template='{key}: {value}', metadata_separator='\\n', text='Unnamed: 0: BẢNG ĐIỂM BÀI TẬP VỀ NHÀ BUỔI 1 - 4 CỦA LỚP GB12, Unnamed: 1: , Unnamed: 2: , Unnamed: 3: , Unnamed: 4: , Unnamed: 5: , Unnamed: 6: , Unnamed: 7: , Unnamed: 8: , Unnamed: 9: , Unnamed: 10: , Unnamed: 11: \\nUnnamed: 0: , Unnamed: 1: , Unnamed: 2: , Unnamed: 3: , Unnamed: 4: , Unnamed: 5: , Unnamed: 6: , Unnamed: 7: , Unnamed: 8: , Unnamed: 9: , Unnamed: 10: , Unnamed: 11: \\nUnnamed: 0: STT, Unnamed: 1: Họ và tên học viên, Unnamed: 2: Buổi 1, Unnamed: 3: , Unnamed: 4: Buổi 2, Unnamed: 5: , Unnamed: 6: Buổi 3, Unnamed: 7: , Unnamed: 8: Buổi 4, Unnamed: 9: , Unnamed: 10: Buổi 6, Unnamed: 11: \\nUnnamed: 0: , Unnamed: 1: , Unnamed: 2: Lý thuyết, Unnamed: 3: Thực hành, Unnamed: 4: Lý thuyết, Unnamed: 5: Thực hành, Unnamed: 6: Lý thuyết, Unnamed: 7: Thực hành, Unnamed: 8: Lý thuyết, Unnamed: 9: Thực hành, Unnamed: 10: Lý thuyết, Unnamed: 11: Thực hành\\nUnnamed: 0: 1, Unnamed: 1: Lương Tiến Phong, Unnamed: 2: 40, Unnamed: 3: 0, Unnamed: 4: 60, Unnamed: 5: -, Unnamed: 6: 50, Unnamed: 7: 0, Unnamed: 8: 40, Unnamed: 9: -, Unnamed: 10: 40, Unnamed: 11: -\\nUnnamed: 0: 2, Unnamed: 1: Vũ Minh Triết, Unnamed: 2: 60, Unnamed: 3: 100, Unnamed: 4: 50, Unnamed: 5: 100, Unnamed: 6: 70, Unnamed: 7: 100, Unnamed: 8: 90, Unnamed: 9: 86, Unnamed: 10: 60, Unnamed: 11: 0\\nUnnamed: 0: 3, Unnamed: 1: Hà Duy Khôi, Unnamed: 2: 90, Unnamed: 3: 90, Unnamed: 4: 30, Unnamed: 5: 75, Unnamed: 6: 30, Unnamed: 7: 66, Unnamed: 8: 70, Unnamed: 9: 100, Unnamed: 10: 70, Unnamed: 11: -\\nUnnamed: 0: 4, Unnamed: 1: Phan Minh Khang, Unnamed: 2: 40, Unnamed: 3: 100, Unnamed: 4: 60, Unnamed: 5: 0, Unnamed: 6: 40, Unnamed: 7: 0, Unnamed: 8: 70, Unnamed: 9: -, Unnamed: 10: 70, Unnamed: 11: 70\\nUnnamed: 0: 5, Unnamed: 1: Trần Thanh Bình, Unnamed: 2: 90, Unnamed: 3: 100, Unnamed: 4: 30, Unnamed: 5: 0, Unnamed: 6: 90, Unnamed: 7: 100, Unnamed: 8: 70, Unnamed: 9: -, Unnamed: 10: 50, Unnamed: 11: 95\\nUnnamed: 0: 6, Unnamed: 1: Lê Tuấn Kiệt, Unnamed: 2: 80,', mimetype='text/plain', start_char_idx=0, end_char_idx=1936, metadata_seperator='\\n', text_template='{metadata_str}\\n\\n{content}'), score=0.28605677337643953)], is_dummy_stream=False, metadata=None)"
      ]
     },
     "execution_count": 6,
     "metadata": {},
     "output_type": "execute_result"
    }
   ],
   "source": [
    "res = chatEngine.chat(\"bạn cho mình xin thông tin điểm của bạn Gia Bảo với\")\n",
    "res"
   ]
  },
  {
   "cell_type": "code",
   "execution_count": 4,
   "id": "4f7a4f23",
   "metadata": {},
   "outputs": [
    {
     "ename": "ValueError",
     "evalue": "Unknown chat mode: CONDENSE_PLUS_CONTEXT",
     "output_type": "error",
     "traceback": [
      "\u001b[31m---------------------------------------------------------------------------\u001b[39m",
      "\u001b[31mValueError\u001b[39m                                Traceback (most recent call last)",
      "\u001b[36mCell\u001b[39m\u001b[36m \u001b[39m\u001b[32mIn[4]\u001b[39m\u001b[32m, line 1\u001b[39m\n\u001b[32m----> \u001b[39m\u001b[32m1\u001b[39m \u001b[43mchatEngine\u001b[49m\u001b[43m.\u001b[49m\u001b[43mload_old_docs\u001b[49m\u001b[43m(\u001b[49m\u001b[43m)\u001b[49m\n",
      "\u001b[36mCell\u001b[39m\u001b[36m \u001b[39m\u001b[32mIn[1]\u001b[39m\u001b[32m, line 29\u001b[39m, in \u001b[36mChatEngine.load_old_docs\u001b[39m\u001b[34m(self)\u001b[39m\n\u001b[32m     24\u001b[39m storage_context = StorageContext.from_defaults(vector_store=vector_store)\n\u001b[32m     26\u001b[39m \u001b[38;5;28mself\u001b[39m.index = VectorStoreIndex.from_vector_store(\n\u001b[32m     27\u001b[39m     vector_store=vector_store, storage_context=storage_context, embed_model=\u001b[38;5;28mself\u001b[39m.embed_model, store_nodes_override=\u001b[38;5;28;01mTrue\u001b[39;00m\n\u001b[32m     28\u001b[39m )\n\u001b[32m---> \u001b[39m\u001b[32m29\u001b[39m \u001b[38;5;28mself\u001b[39m.chat_engine = \u001b[38;5;28;43mself\u001b[39;49m\u001b[43m.\u001b[49m\u001b[43mindex\u001b[49m\u001b[43m.\u001b[49m\u001b[43mas_chat_engine\u001b[49m\u001b[43m(\u001b[49m\u001b[43mchat_mode\u001b[49m\u001b[43m=\u001b[49m\u001b[33;43m\"\u001b[39;49m\u001b[33;43mCONDENSE_PLUS_CONTEXT\u001b[39;49m\u001b[33;43m\"\u001b[39;49m\u001b[43m,\u001b[49m\u001b[43m \u001b[49m\u001b[43mmemory\u001b[49m\u001b[43m=\u001b[49m\u001b[38;5;28;43mself\u001b[39;49m\u001b[43m.\u001b[49m\u001b[43mmemory\u001b[49m\u001b[43m)\u001b[49m\n",
      "\u001b[36mFile \u001b[39m\u001b[32mf:\\nexlab\\AI project 2\\SmarDocChatbot\\venv\\Lib\\site-packages\\llama_index\\core\\indices\\base.py:600\u001b[39m, in \u001b[36mBaseIndex.as_chat_engine\u001b[39m\u001b[34m(self, chat_mode, llm, **kwargs)\u001b[39m\n\u001b[32m    595\u001b[39m     \u001b[38;5;28;01mreturn\u001b[39;00m SimpleChatEngine.from_defaults(\n\u001b[32m    596\u001b[39m         llm=llm,\n\u001b[32m    597\u001b[39m         **kwargs,\n\u001b[32m    598\u001b[39m     )\n\u001b[32m    599\u001b[39m \u001b[38;5;28;01melse\u001b[39;00m:\n\u001b[32m--> \u001b[39m\u001b[32m600\u001b[39m     \u001b[38;5;28;01mraise\u001b[39;00m \u001b[38;5;167;01mValueError\u001b[39;00m(\u001b[33mf\u001b[39m\u001b[33m\"\u001b[39m\u001b[33mUnknown chat mode: \u001b[39m\u001b[38;5;132;01m{\u001b[39;00mchat_mode\u001b[38;5;132;01m}\u001b[39;00m\u001b[33m\"\u001b[39m)\n",
      "\u001b[31mValueError\u001b[39m: Unknown chat mode: CONDENSE_PLUS_CONTEXT"
     ]
    }
   ],
   "source": [
    "chatEngine.load_old_docs()"
   ]
  },
  {
   "cell_type": "code",
   "execution_count": 4,
   "id": "7d9cb36a",
   "metadata": {},
   "outputs": [],
   "source": [
    "chatEngine.load_docs(new_doc)"
   ]
  },
  {
   "cell_type": "code",
   "execution_count": 67,
   "id": "15f9dfc6",
   "metadata": {},
   "outputs": [],
   "source": [
    "chatEngine.index.vector_store.collection_name"
   ]
  },
  {
   "cell_type": "code",
   "execution_count": 5,
   "id": "77640b49",
   "metadata": {},
   "outputs": [
    {
     "data": {
      "text/plain": [
       "[]"
      ]
     },
     "execution_count": 5,
     "metadata": {},
     "output_type": "execute_result"
    }
   ],
   "source": [
    "chatEngine.docs"
   ]
  },
  {
   "cell_type": "code",
   "execution_count": null,
   "id": "736914c0",
   "metadata": {},
   "outputs": [],
   "source": [
    "chatEngine.update_docs(new_doc)\n",
    "chatEngine.update_docs(docs_a)"
   ]
  },
  {
   "cell_type": "code",
   "execution_count": 6,
   "id": "abeda28e",
   "metadata": {},
   "outputs": [],
   "source": [
    "from llama_index.vector_stores.chroma import ChromaVectorStore\n",
    "from llama_index.embeddings.huggingface import HuggingFaceEmbedding\n",
    "import chromadb\n",
    "from llama_index.core import StorageContext, VectorStoreIndex, Settings, Document\n",
    "from llama_index.core.memory import ChatMemoryBuffer\n",
    "\n",
    "\n",
    "class ChatEngine():\n",
    "    def __init__(self, llm , docs: list[Document] = [],  collection_name: str = \"docs\", embed_model = HuggingFaceEmbedding(), token_limit :int = 4000, chroma_db_path: str = \"./chroma_db\"):\n",
    "        \n",
    "        self.docs = docs\n",
    "        self.collection_name = collection_name\n",
    "        self.chroma_db_path = chroma_db_path\n",
    "        self.embed_model = embed_model\n",
    "        self.token_limit = token_limit\n",
    "        # Lưu tạm vào Chroma \n",
    "        chroma_client = chromadb.PersistentClient(path= chroma_db_path)\n",
    "        \n",
    "       \n",
    "\n",
    "        # 3. Nếu collection đã tồn tại, load lại. Nếu chưa, tạo mới.\n",
    "        chroma_collection = chroma_client.get_or_create_collection(collection_name)\n",
    "        vector_store = ChromaVectorStore(chroma_collection=chroma_collection)\n",
    "        storage_context = StorageContext.from_defaults(vector_store=vector_store)\n",
    "\n",
    "        self.index = VectorStoreIndex.from_documents(\n",
    "            docs, storage_context=storage_context, embed_model=embed_model, store_nodes_override=True\n",
    "        )\n",
    "        Settings.llm = llm                   # vô hiệu hóa LLM dùng OpenAI\n",
    "        self.memory = ChatMemoryBuffer.from_defaults(token_limit=token_limit)\n",
    "        self.chat_engine = self.index.as_chat_engine(chat_mode=\"context\", memory=self.memory)\n",
    "    def chat(self, message):\n",
    "        if self.chat_engine:\n",
    "            response = self.chat_engine.chat(message)\n",
    "            return response\n",
    "        else:\n",
    "            return \"Lỗi khi tạo mô hình\"\n",
    "    def chat2(self, message):\n",
    "        if self.chat_engine:\n",
    "            query_engine = self.index.as_query_engine(similarity_top_k=5)\n",
    "            result = query_engine.query(message)\n",
    "            print(\"🔎 Các đoạn được truy xuất:\")\n",
    "            for node in result.source_nodes:\n",
    "                print(\"-\" * 80)\n",
    "                print(node.node.text[:500])\n",
    "            return result.response\n",
    "        else:\n",
    "            return \"Lỗi khi tạo mô hình\"\n",
    "\n",
    "    def update_docs(self, new_docs: list[Document]):\n",
    "        self.docs.extend(new_docs)\n",
    "        self.index = self.index.from_documents(self.docs)\n",
    "        self.chat_engine = self.index.as_chat_engine(chat_mode='context', memory=self.memory)\n",
    "\n",
    "        \n",
    "\n",
    "from llama_index.core import VectorStoreIndex, Document\n",
    "from llama_index.readers.file import PyMuPDFReader,DocxReader, PandasExcelReader \n",
    "\n",
    "\n",
    "def read_uploaded_file(file_path) -> list[Document] | None:\n",
    "\n",
    "    filename = file_path.name if hasattr(file_path, \"name\") else str(file_path)\n",
    "    ext = filename.lower().split('.')[-1]\n",
    "    with open(file_path, \"rb\") as f:\n",
    "        file_bytes = f.read()\n",
    "\n",
    "    if ext == \"pdf\":\n",
    "        pdf_loader = PyMuPDFReader()\n",
    "        documents = pdf_loader.load(file_path=file_path)\n",
    "    elif ext == \"docx\":\n",
    "        docx_loader = DocxReader()\n",
    "        documents = docx_loader.load_data(file  = file_path)\n",
    "    elif ext in [\"xls\", \"xlsx\"]:\n",
    "        excel_loader = PandasExcelReader()\n",
    "        documents = excel_loader.load_data(file = file_path)\n",
    "    elif ext == \"txt\":\n",
    "        text = file_bytes.decode(\"utf-8\")\n",
    "        documents =  [Document(text=text, metadata={\"filename\": filename})]\n",
    "    else:\n",
    "        return None\n",
    "\n",
    "    return documents\n",
    "\n",
    "\n",
    "import os\n",
    "from dotenv import load_dotenv\n",
    "load_dotenv()\n",
    "from llama_index.llms.openai_like import OpenAILike\n",
    "from llama_index.llms.openai import OpenAI\n",
    "\n",
    "api_key = os.getenv(\"OPENAI_API_KEY\")\n",
    "\n",
    "# llm=OpenAILike(model=\"qwen/qwen3-coder:free\",\n",
    "#         api_key = api_key,\n",
    "#         temperature = 0.0,\n",
    "\n",
    "#         api_base = \"https://openrouter.ai/api/v1\",\n",
    "#         is_chat_model=True,\n",
    "#         is_function_calling_model=True, \n",
    "# )\n",
    "llm = OpenAI(model=\"gpt-4.1-2025-04-14\",\n",
    "             temperature=0\n",
    "             )\n",
    "embed_model = HuggingFaceEmbedding(model_name=\"sentence-transformers/all-MiniLM-L6-v2\", max_length=8000)\n",
    "docs_a = read_uploaded_file(r\"C:\\Users\\ACER\\Desktop\\nhan xet.docx\")\n",
    "\n",
    "new_doc = read_uploaded_file(r\"C:\\Users\\ACER\\Desktop\\BTVN\\BTVN GB12.xlsx\")\n",
    "chatEngine = ChatEngine(llm=llm,embed_model=embed_model, collection_name=\"final2\", chroma_db_path=\"./db\")\n",
    "chatEngine.update_docs(new_doc)\n",
    "chatEngine.update_docs(docs_a)\n",
    "\n",
    "\n",
    "\n"
   ]
  },
  {
   "cell_type": "code",
   "execution_count": 16,
   "id": "c3f4b3a7",
   "metadata": {},
   "outputs": [
    {
     "data": {
      "text/plain": [
       "[Document(id_='50e288e8-00a9-45bf-a217-dead54667885', embedding=None, metadata={}, excluded_embed_metadata_keys=[], excluded_llm_metadata_keys=[], relationships={}, metadata_template='{key}: {value}', metadata_separator='\\n', text_resource=MediaResource(embeddings=None, data=None, text='Unnamed: 0: BẢNG ĐIỂM BÀI TẬP VỀ NHÀ BUỔI 1 - 4 CỦA LỚP GB12, Unnamed: 1: , Unnamed: 2: , Unnamed: 3: , Unnamed: 4: , Unnamed: 5: , Unnamed: 6: , Unnamed: 7: , Unnamed: 8: , Unnamed: 9: , Unnamed: 10: , Unnamed: 11: \\nUnnamed: 0: , Unnamed: 1: , Unnamed: 2: , Unnamed: 3: , Unnamed: 4: , Unnamed: 5: , Unnamed: 6: , Unnamed: 7: , Unnamed: 8: , Unnamed: 9: , Unnamed: 10: , Unnamed: 11: \\nUnnamed: 0: STT, Unnamed: 1: Họ và tên học viên, Unnamed: 2: Buổi 1, Unnamed: 3: , Unnamed: 4: Buổi 2, Unnamed: 5: , Unnamed: 6: Buổi 3, Unnamed: 7: , Unnamed: 8: Buổi 4, Unnamed: 9: , Unnamed: 10: Buổi 6, Unnamed: 11: \\nUnnamed: 0: , Unnamed: 1: , Unnamed: 2: Lý thuyết, Unnamed: 3: Thực hành, Unnamed: 4: Lý thuyết, Unnamed: 5: Thực hành, Unnamed: 6: Lý thuyết, Unnamed: 7: Thực hành, Unnamed: 8: Lý thuyết, Unnamed: 9: Thực hành, Unnamed: 10: Lý thuyết, Unnamed: 11: Thực hành\\nUnnamed: 0: 1, Unnamed: 1: Lương Tiến Phong, Unnamed: 2: 40, Unnamed: 3: 0, Unnamed: 4: 60, Unnamed: 5: -, Unnamed: 6: 50, Unnamed: 7: 0, Unnamed: 8: 40, Unnamed: 9: -, Unnamed: 10: 40, Unnamed: 11: -\\nUnnamed: 0: 2, Unnamed: 1: Vũ Minh Triết, Unnamed: 2: 60, Unnamed: 3: 100, Unnamed: 4: 50, Unnamed: 5: 100, Unnamed: 6: 70, Unnamed: 7: 100, Unnamed: 8: 90, Unnamed: 9: 86, Unnamed: 10: 60, Unnamed: 11: 0\\nUnnamed: 0: 3, Unnamed: 1: Hà Duy Khôi, Unnamed: 2: 90, Unnamed: 3: 90, Unnamed: 4: 30, Unnamed: 5: 75, Unnamed: 6: 30, Unnamed: 7: 66, Unnamed: 8: 70, Unnamed: 9: 100, Unnamed: 10: 70, Unnamed: 11: -\\nUnnamed: 0: 4, Unnamed: 1: Phan Minh Khang, Unnamed: 2: 40, Unnamed: 3: 100, Unnamed: 4: 60, Unnamed: 5: 0, Unnamed: 6: 40, Unnamed: 7: 0, Unnamed: 8: 70, Unnamed: 9: -, Unnamed: 10: 70, Unnamed: 11: 70\\nUnnamed: 0: 5, Unnamed: 1: Trần Thanh Bình, Unnamed: 2: 90, Unnamed: 3: 100, Unnamed: 4: 30, Unnamed: 5: 0, Unnamed: 6: 90, Unnamed: 7: 100, Unnamed: 8: 70, Unnamed: 9: -, Unnamed: 10: 50, Unnamed: 11: 95\\nUnnamed: 0: 6, Unnamed: 1: Lê Tuấn Kiệt, Unnamed: 2: 80, Unnamed: 3: 90, Unnamed: 4: 30, Unnamed: 5: 0, Unnamed: 6: 80, Unnamed: 7: 80, Unnamed: 8: 90, Unnamed: 9: 70, Unnamed: 10: 40, Unnamed: 11: 80\\nUnnamed: 0: 7, Unnamed: 1: Nguyễn Bảo Khang, Unnamed: 2: 70, Unnamed: 3: 0, Unnamed: 4: 50, Unnamed: 5: 100, Unnamed: 6: 80, Unnamed: 7: 100, Unnamed: 8: 90, Unnamed: 9: 100, Unnamed: 10: 60, Unnamed: 11: -\\nUnnamed: 0: 8, Unnamed: 1: Trần Công Thiên Long, Unnamed: 2: -, Unnamed: 3: -, Unnamed: 4: -, Unnamed: 5: -, Unnamed: 6: -, Unnamed: 7: -, Unnamed: 8: -, Unnamed: 9: -, Unnamed: 10: 20, Unnamed: 11: -\\nUnnamed: 0: , Unnamed: 1: , Unnamed: 2: , Unnamed: 3: , Unnamed: 4: , Unnamed: 5: , Unnamed: 6: , Unnamed: 7: , Unnamed: 8: , Unnamed: 9: , Unnamed: 10: 51.25, Unnamed: 11: \\nUnnamed: 0: , Unnamed: 1: Trong đó:, Unnamed: 2: , Unnamed: 3: , Unnamed: 4: , Unnamed: 5: , Unnamed: 6: , Unnamed: 7: , Unnamed: 8: , Unnamed: 9: , Unnamed: 10: , Unnamed: 11: \\nUnnamed: 0: , Unnamed: 1: \"-\": chưa thực hiện, Unnamed: 2: , Unnamed: 3: , Unnamed: 4: , Unnamed: 5: , Unnamed: 6: , Unnamed: 7: , Unnamed: 8: , Unnamed: 9: , Unnamed: 10: , Unnamed: 11: \\nUnnamed: 0: , Unnamed: 1: 0 điểm: các bạn nộp sai định dạng file, Unnamed: 2: , Unnamed: 3: , Unnamed: 4: , Unnamed: 5: , Unnamed: 6: , Unnamed: 7: , Unnamed: 8: , Unnamed: 9: , Unnamed: 10: , Unnamed: 11: ', path=None, url=None, mimetype=None), image_resource=None, audio_resource=None, video_resource=None, text_template='{metadata_str}\\n\\n{content}'),\n",
       " Document(id_='87fa51a1-553b-4057-bc1d-6d5f34b005a2', embedding=None, metadata={}, excluded_embed_metadata_keys=[], excluded_llm_metadata_keys=[], relationships={}, metadata_template='{key}: {value}', metadata_separator='\\n', text_resource=MediaResource(embeddings=None, data=None, text='STT: 1, Họ và tên học viên: Hà Gia Bảo, Rank: 2, Điểm cộng: 1.0, TN: 3.5, TH: 5.0, note: 1 5 7, Tổng: 9.5, Unnamed: 8: 0.0\\nSTT: 2, Họ và tên học viên: Vũ Minh Triết, Rank: 3, Điểm cộng: 0.35, TN: 3.5, TH: 3.5, note: 4 5 9\\nDùng speed và direction để lập trình thay vì dùng hspeed, vspeed,\\nChưa đổi sprite\\nPhần đếm chưa tối ưu, Tổng: 7.35, Unnamed: 8: 0.0\\nSTT: 3, Họ và tên học viên: Hà Duy Khôi, Rank: 5, Điểm cộng: 0.0, TN: 4.0, TH: 4.5, note: 2 9\\nThiếu phần xóa object, Tổng: 8.5, Unnamed: 8: 0.0\\nSTT: 4, Họ và tên học viên: Trần Thanh Bình, Rank: 4, Điểm cộng: 0.2, TN: 3.5, TH: 4.5, note: 2 3 5\\nChưa xóa được object (chưa đặt lại biến step), Tổng: 8.2, Unnamed: 8: 0.0\\nSTT: 5, Họ và tên học viên: Lê Tuấn Kiệt, Rank: 1, Điểm cộng: 1.25, TN: 4.5, TH: 5.0, note: 9, Tổng: 10.75, Unnamed: 8: 0.75', path=None, url=None, mimetype=None), image_resource=None, audio_resource=None, video_resource=None, text_template='{metadata_str}\\n\\n{content}'),\n",
       " Document(id_='0231f477-8d07-49ed-b6ee-598a98464f35', embedding=None, metadata={}, excluded_embed_metadata_keys=[], excluded_llm_metadata_keys=[], relationships={}, metadata_template='{key}: {value}', metadata_separator='\\n', text_resource=MediaResource(embeddings=None, data=None, text='Unnamed: 0: BẢNG ĐIỂM BÀI TẬP VỀ NHÀ BUỔI 1 - 6 CỦA LỚP GI12, Unnamed: 1: , Unnamed: 2: , Unnamed: 3: , Unnamed: 4: , Unnamed: 5: , Unnamed: 6: , Unnamed: 7: , Unnamed: 8: , Unnamed: 9: , Unnamed: 10: , Unnamed: 11: \\nUnnamed: 0: , Unnamed: 1: , Unnamed: 2: , Unnamed: 3: , Unnamed: 4: , Unnamed: 5: , Unnamed: 6: , Unnamed: 7: , Unnamed: 8: , Unnamed: 9: , Unnamed: 10: , Unnamed: 11: \\nUnnamed: 0: STT, Unnamed: 1: Họ và tên học viên, Unnamed: 2: Buổi 1, Unnamed: 3: , Unnamed: 4: Buổi 2, Unnamed: 5: , Unnamed: 6: Buổi 3, Unnamed: 7: , Unnamed: 8: Buổi 4, Unnamed: 9: , Unnamed: 10: Buổi 6, Unnamed: 11: \\nUnnamed: 0: , Unnamed: 1: , Unnamed: 2: Lý thuyết, Unnamed: 3: Thực hành, Unnamed: 4: Lý thuyết, Unnamed: 5: Thực hành, Unnamed: 6: Lý thuyết, Unnamed: 7: Thực hành, Unnamed: 8: Lý thuyết, Unnamed: 9: Thực hành, Unnamed: 10: Lý thuyết, Unnamed: 11: Thực hành\\nUnnamed: 0: 1, Unnamed: 1: Hà Gia Bảo, Unnamed: 2: 50, Unnamed: 3: 90, Unnamed: 4: 100, Unnamed: 5: 100, Unnamed: 6: 70, Unnamed: 7: 100, Unnamed: 8: 70, Unnamed: 9: 100, Unnamed: 10: 80, Unnamed: 11: 100\\nUnnamed: 0: 2, Unnamed: 1: Vũ Minh Triết, Unnamed: 2: 70, Unnamed: 3: 90, Unnamed: 4: 60, Unnamed: 5: 90, Unnamed: 6: 40, Unnamed: 7: 90, Unnamed: 8: 90, Unnamed: 9: 100, Unnamed: 10: 60, Unnamed: 11: -\\nUnnamed: 0: 3, Unnamed: 1: Hà Duy Khôi, Unnamed: 2: 60, Unnamed: 3: 100, Unnamed: 4: 80, Unnamed: 5: 80, Unnamed: 6: 70, Unnamed: 7: 0, Unnamed: 8: 70, Unnamed: 9: 100, Unnamed: 10: 50, Unnamed: 11: -\\nUnnamed: 0: 4, Unnamed: 1: Trần Thanh Bình, Unnamed: 2: 90, Unnamed: 3: 90, Unnamed: 4: 80, Unnamed: 5: 70, Unnamed: 6: 70, Unnamed: 7: 90, Unnamed: 8: 80, Unnamed: 9: 95, Unnamed: 10: 50, Unnamed: 11: -\\nUnnamed: 0: 5, Unnamed: 1: Lê Tuấn Kiệt, Unnamed: 2: 70, Unnamed: 3: 100, Unnamed: 4: 90, Unnamed: 5: 95, Unnamed: 6: 90, Unnamed: 7: 95, Unnamed: 8: 80, Unnamed: 9: 95, Unnamed: 10: 80, Unnamed: 11: 100\\nUnnamed: 0: , Unnamed: 1: , Unnamed: 2: , Unnamed: 3: , Unnamed: 4: , Unnamed: 5: , Unnamed: 6: , Unnamed: 7: , Unnamed: 8: , Unnamed: 9: , Unnamed: 10: , Unnamed: 11: \\nUnnamed: 0: , Unnamed: 1: Trong đó:, Unnamed: 2: , Unnamed: 3: , Unnamed: 4: , Unnamed: 5: , Unnamed: 6: , Unnamed: 7: , Unnamed: 8: , Unnamed: 9: , Unnamed: 10: , Unnamed: 11: \\nUnnamed: 0: , Unnamed: 1: \"-\": chưa thực hiện, Unnamed: 2: , Unnamed: 3: , Unnamed: 4: , Unnamed: 5: , Unnamed: 6: , Unnamed: 7: , Unnamed: 8: , Unnamed: 9: , Unnamed: 10: , Unnamed: 11: \\nUnnamed: 0: , Unnamed: 1: 0 điểm: chưa nộp lại, Unnamed: 2: , Unnamed: 3: , Unnamed: 4: , Unnamed: 5: , Unnamed: 6: , Unnamed: 7: , Unnamed: 8: , Unnamed: 9: , Unnamed: 10: , Unnamed: 11: ', path=None, url=None, mimetype=None), image_resource=None, audio_resource=None, video_resource=None, text_template='{metadata_str}\\n\\n{content}')]"
      ]
     },
     "execution_count": 16,
     "metadata": {},
     "output_type": "execute_result"
    }
   ],
   "source": [
    "new_doc = read_uploaded_file(r\"C:\\Users\\ACER\\Desktop\\BTVN\\BTVN GB12.xlsx\")\n",
    "new_doc"
   ]
  },
  {
   "cell_type": "code",
   "execution_count": 17,
   "id": "5356cb7f",
   "metadata": {},
   "outputs": [],
   "source": [
    "\n",
    "file_path = r\"C:\\Users\\ACER\\Desktop\\BTVN\\BTVN GB12.xlsx\"\n",
    "excel_loader = PandasExcelReader()\n",
    "documents = excel_loader.load_data(file = file_path)"
   ]
  },
  {
   "cell_type": "code",
   "execution_count": 18,
   "id": "aa6a0d6b",
   "metadata": {},
   "outputs": [
    {
     "data": {
      "text/plain": [
       "[Document(id_='eeef6e85-5100-4d97-ba7c-b7733de9bc7e', embedding=None, metadata={}, excluded_embed_metadata_keys=[], excluded_llm_metadata_keys=[], relationships={}, metadata_template='{key}: {value}', metadata_separator='\\n', text_resource=MediaResource(embeddings=None, data=None, text='Unnamed: 0: BẢNG ĐIỂM BÀI TẬP VỀ NHÀ BUỔI 1 - 4 CỦA LỚP GB12, Unnamed: 1: , Unnamed: 2: , Unnamed: 3: , Unnamed: 4: , Unnamed: 5: , Unnamed: 6: , Unnamed: 7: , Unnamed: 8: , Unnamed: 9: , Unnamed: 10: , Unnamed: 11: \\nUnnamed: 0: , Unnamed: 1: , Unnamed: 2: , Unnamed: 3: , Unnamed: 4: , Unnamed: 5: , Unnamed: 6: , Unnamed: 7: , Unnamed: 8: , Unnamed: 9: , Unnamed: 10: , Unnamed: 11: \\nUnnamed: 0: STT, Unnamed: 1: Họ và tên học viên, Unnamed: 2: Buổi 1, Unnamed: 3: , Unnamed: 4: Buổi 2, Unnamed: 5: , Unnamed: 6: Buổi 3, Unnamed: 7: , Unnamed: 8: Buổi 4, Unnamed: 9: , Unnamed: 10: Buổi 6, Unnamed: 11: \\nUnnamed: 0: , Unnamed: 1: , Unnamed: 2: Lý thuyết, Unnamed: 3: Thực hành, Unnamed: 4: Lý thuyết, Unnamed: 5: Thực hành, Unnamed: 6: Lý thuyết, Unnamed: 7: Thực hành, Unnamed: 8: Lý thuyết, Unnamed: 9: Thực hành, Unnamed: 10: Lý thuyết, Unnamed: 11: Thực hành\\nUnnamed: 0: 1, Unnamed: 1: Lương Tiến Phong, Unnamed: 2: 40, Unnamed: 3: 0, Unnamed: 4: 60, Unnamed: 5: -, Unnamed: 6: 50, Unnamed: 7: 0, Unnamed: 8: 40, Unnamed: 9: -, Unnamed: 10: 40, Unnamed: 11: -\\nUnnamed: 0: 2, Unnamed: 1: Vũ Minh Triết, Unnamed: 2: 60, Unnamed: 3: 100, Unnamed: 4: 50, Unnamed: 5: 100, Unnamed: 6: 70, Unnamed: 7: 100, Unnamed: 8: 90, Unnamed: 9: 86, Unnamed: 10: 60, Unnamed: 11: 0\\nUnnamed: 0: 3, Unnamed: 1: Hà Duy Khôi, Unnamed: 2: 90, Unnamed: 3: 90, Unnamed: 4: 30, Unnamed: 5: 75, Unnamed: 6: 30, Unnamed: 7: 66, Unnamed: 8: 70, Unnamed: 9: 100, Unnamed: 10: 70, Unnamed: 11: -\\nUnnamed: 0: 4, Unnamed: 1: Phan Minh Khang, Unnamed: 2: 40, Unnamed: 3: 100, Unnamed: 4: 60, Unnamed: 5: 0, Unnamed: 6: 40, Unnamed: 7: 0, Unnamed: 8: 70, Unnamed: 9: -, Unnamed: 10: 70, Unnamed: 11: 70\\nUnnamed: 0: 5, Unnamed: 1: Trần Thanh Bình, Unnamed: 2: 90, Unnamed: 3: 100, Unnamed: 4: 30, Unnamed: 5: 0, Unnamed: 6: 90, Unnamed: 7: 100, Unnamed: 8: 70, Unnamed: 9: -, Unnamed: 10: 50, Unnamed: 11: 95\\nUnnamed: 0: 6, Unnamed: 1: Lê Tuấn Kiệt, Unnamed: 2: 80, Unnamed: 3: 90, Unnamed: 4: 30, Unnamed: 5: 0, Unnamed: 6: 80, Unnamed: 7: 80, Unnamed: 8: 90, Unnamed: 9: 70, Unnamed: 10: 40, Unnamed: 11: 80\\nUnnamed: 0: 7, Unnamed: 1: Nguyễn Bảo Khang, Unnamed: 2: 70, Unnamed: 3: 0, Unnamed: 4: 50, Unnamed: 5: 100, Unnamed: 6: 80, Unnamed: 7: 100, Unnamed: 8: 90, Unnamed: 9: 100, Unnamed: 10: 60, Unnamed: 11: -\\nUnnamed: 0: 8, Unnamed: 1: Trần Công Thiên Long, Unnamed: 2: -, Unnamed: 3: -, Unnamed: 4: -, Unnamed: 5: -, Unnamed: 6: -, Unnamed: 7: -, Unnamed: 8: -, Unnamed: 9: -, Unnamed: 10: 20, Unnamed: 11: -\\nUnnamed: 0: , Unnamed: 1: , Unnamed: 2: , Unnamed: 3: , Unnamed: 4: , Unnamed: 5: , Unnamed: 6: , Unnamed: 7: , Unnamed: 8: , Unnamed: 9: , Unnamed: 10: 51.25, Unnamed: 11: \\nUnnamed: 0: , Unnamed: 1: Trong đó:, Unnamed: 2: , Unnamed: 3: , Unnamed: 4: , Unnamed: 5: , Unnamed: 6: , Unnamed: 7: , Unnamed: 8: , Unnamed: 9: , Unnamed: 10: , Unnamed: 11: \\nUnnamed: 0: , Unnamed: 1: \"-\": chưa thực hiện, Unnamed: 2: , Unnamed: 3: , Unnamed: 4: , Unnamed: 5: , Unnamed: 6: , Unnamed: 7: , Unnamed: 8: , Unnamed: 9: , Unnamed: 10: , Unnamed: 11: \\nUnnamed: 0: , Unnamed: 1: 0 điểm: các bạn nộp sai định dạng file, Unnamed: 2: , Unnamed: 3: , Unnamed: 4: , Unnamed: 5: , Unnamed: 6: , Unnamed: 7: , Unnamed: 8: , Unnamed: 9: , Unnamed: 10: , Unnamed: 11: ', path=None, url=None, mimetype=None), image_resource=None, audio_resource=None, video_resource=None, text_template='{metadata_str}\\n\\n{content}'),\n",
       " Document(id_='9e6006dc-0e5d-419e-885f-48eb1b1e9ac9', embedding=None, metadata={}, excluded_embed_metadata_keys=[], excluded_llm_metadata_keys=[], relationships={}, metadata_template='{key}: {value}', metadata_separator='\\n', text_resource=MediaResource(embeddings=None, data=None, text='STT: 1, Họ và tên học viên: Hà Gia Bảo, Rank: 2, Điểm cộng: 1.0, TN: 3.5, TH: 5.0, note: 1 5 7, Tổng: 9.5, Unnamed: 8: 0.0\\nSTT: 2, Họ và tên học viên: Vũ Minh Triết, Rank: 3, Điểm cộng: 0.35, TN: 3.5, TH: 3.5, note: 4 5 9\\nDùng speed và direction để lập trình thay vì dùng hspeed, vspeed,\\nChưa đổi sprite\\nPhần đếm chưa tối ưu, Tổng: 7.35, Unnamed: 8: 0.0\\nSTT: 3, Họ và tên học viên: Hà Duy Khôi, Rank: 5, Điểm cộng: 0.0, TN: 4.0, TH: 4.5, note: 2 9\\nThiếu phần xóa object, Tổng: 8.5, Unnamed: 8: 0.0\\nSTT: 4, Họ và tên học viên: Trần Thanh Bình, Rank: 4, Điểm cộng: 0.2, TN: 3.5, TH: 4.5, note: 2 3 5\\nChưa xóa được object (chưa đặt lại biến step), Tổng: 8.2, Unnamed: 8: 0.0\\nSTT: 5, Họ và tên học viên: Lê Tuấn Kiệt, Rank: 1, Điểm cộng: 1.25, TN: 4.5, TH: 5.0, note: 9, Tổng: 10.75, Unnamed: 8: 0.75', path=None, url=None, mimetype=None), image_resource=None, audio_resource=None, video_resource=None, text_template='{metadata_str}\\n\\n{content}'),\n",
       " Document(id_='3a3cead4-32e1-4f16-9d38-4ca4c7fbe637', embedding=None, metadata={}, excluded_embed_metadata_keys=[], excluded_llm_metadata_keys=[], relationships={}, metadata_template='{key}: {value}', metadata_separator='\\n', text_resource=MediaResource(embeddings=None, data=None, text='Unnamed: 0: BẢNG ĐIỂM BÀI TẬP VỀ NHÀ BUỔI 1 - 6 CỦA LỚP GI12, Unnamed: 1: , Unnamed: 2: , Unnamed: 3: , Unnamed: 4: , Unnamed: 5: , Unnamed: 6: , Unnamed: 7: , Unnamed: 8: , Unnamed: 9: , Unnamed: 10: , Unnamed: 11: \\nUnnamed: 0: , Unnamed: 1: , Unnamed: 2: , Unnamed: 3: , Unnamed: 4: , Unnamed: 5: , Unnamed: 6: , Unnamed: 7: , Unnamed: 8: , Unnamed: 9: , Unnamed: 10: , Unnamed: 11: \\nUnnamed: 0: STT, Unnamed: 1: Họ và tên học viên, Unnamed: 2: Buổi 1, Unnamed: 3: , Unnamed: 4: Buổi 2, Unnamed: 5: , Unnamed: 6: Buổi 3, Unnamed: 7: , Unnamed: 8: Buổi 4, Unnamed: 9: , Unnamed: 10: Buổi 6, Unnamed: 11: \\nUnnamed: 0: , Unnamed: 1: , Unnamed: 2: Lý thuyết, Unnamed: 3: Thực hành, Unnamed: 4: Lý thuyết, Unnamed: 5: Thực hành, Unnamed: 6: Lý thuyết, Unnamed: 7: Thực hành, Unnamed: 8: Lý thuyết, Unnamed: 9: Thực hành, Unnamed: 10: Lý thuyết, Unnamed: 11: Thực hành\\nUnnamed: 0: 1, Unnamed: 1: Hà Gia Bảo, Unnamed: 2: 50, Unnamed: 3: 90, Unnamed: 4: 100, Unnamed: 5: 100, Unnamed: 6: 70, Unnamed: 7: 100, Unnamed: 8: 70, Unnamed: 9: 100, Unnamed: 10: 80, Unnamed: 11: 100\\nUnnamed: 0: 2, Unnamed: 1: Vũ Minh Triết, Unnamed: 2: 70, Unnamed: 3: 90, Unnamed: 4: 60, Unnamed: 5: 90, Unnamed: 6: 40, Unnamed: 7: 90, Unnamed: 8: 90, Unnamed: 9: 100, Unnamed: 10: 60, Unnamed: 11: -\\nUnnamed: 0: 3, Unnamed: 1: Hà Duy Khôi, Unnamed: 2: 60, Unnamed: 3: 100, Unnamed: 4: 80, Unnamed: 5: 80, Unnamed: 6: 70, Unnamed: 7: 0, Unnamed: 8: 70, Unnamed: 9: 100, Unnamed: 10: 50, Unnamed: 11: -\\nUnnamed: 0: 4, Unnamed: 1: Trần Thanh Bình, Unnamed: 2: 90, Unnamed: 3: 90, Unnamed: 4: 80, Unnamed: 5: 70, Unnamed: 6: 70, Unnamed: 7: 90, Unnamed: 8: 80, Unnamed: 9: 95, Unnamed: 10: 50, Unnamed: 11: -\\nUnnamed: 0: 5, Unnamed: 1: Lê Tuấn Kiệt, Unnamed: 2: 70, Unnamed: 3: 100, Unnamed: 4: 90, Unnamed: 5: 95, Unnamed: 6: 90, Unnamed: 7: 95, Unnamed: 8: 80, Unnamed: 9: 95, Unnamed: 10: 80, Unnamed: 11: 100\\nUnnamed: 0: , Unnamed: 1: , Unnamed: 2: , Unnamed: 3: , Unnamed: 4: , Unnamed: 5: , Unnamed: 6: , Unnamed: 7: , Unnamed: 8: , Unnamed: 9: , Unnamed: 10: , Unnamed: 11: \\nUnnamed: 0: , Unnamed: 1: Trong đó:, Unnamed: 2: , Unnamed: 3: , Unnamed: 4: , Unnamed: 5: , Unnamed: 6: , Unnamed: 7: , Unnamed: 8: , Unnamed: 9: , Unnamed: 10: , Unnamed: 11: \\nUnnamed: 0: , Unnamed: 1: \"-\": chưa thực hiện, Unnamed: 2: , Unnamed: 3: , Unnamed: 4: , Unnamed: 5: , Unnamed: 6: , Unnamed: 7: , Unnamed: 8: , Unnamed: 9: , Unnamed: 10: , Unnamed: 11: \\nUnnamed: 0: , Unnamed: 1: 0 điểm: chưa nộp lại, Unnamed: 2: , Unnamed: 3: , Unnamed: 4: , Unnamed: 5: , Unnamed: 6: , Unnamed: 7: , Unnamed: 8: , Unnamed: 9: , Unnamed: 10: , Unnamed: 11: ', path=None, url=None, mimetype=None), image_resource=None, audio_resource=None, video_resource=None, text_template='{metadata_str}\\n\\n{content}')]"
      ]
     },
     "execution_count": 18,
     "metadata": {},
     "output_type": "execute_result"
    }
   ],
   "source": [
    "documents"
   ]
  },
  {
   "cell_type": "code",
   "execution_count": 29,
   "id": "f7b5c1dc",
   "metadata": {},
   "outputs": [
    {
     "name": "stderr",
     "output_type": "stream",
     "text": [
      "C:\\Users\\ACER\\AppData\\Local\\Temp\\ipykernel_14964\\4157999325.py:56: RuntimeWarning: coroutine 'VectorStoreIndex.ainsert_nodes' was never awaited\n",
      "  self.index.ainsert_nodes(nodes)\n",
      "RuntimeWarning: Enable tracemalloc to get the object allocation traceback\n"
     ]
    }
   ],
   "source": [
    "chatEngine.update_docs(new_docs=new_doc)"
   ]
  },
  {
   "cell_type": "code",
   "execution_count": 2,
   "id": "3051a506",
   "metadata": {},
   "outputs": [
    {
     "data": {
      "text/plain": [
       "{'f6df4955-b570-474e-b279-8903f96ba41e': TextNode(id_='f6df4955-b570-474e-b279-8903f96ba41e', embedding=None, metadata={'file_name': 'nhan xet.docx'}, excluded_embed_metadata_keys=[], excluded_llm_metadata_keys=[], relationships={<NodeRelationship.SOURCE: '1'>: RelatedNodeInfo(node_id='2b485c39-6a5d-450d-96fe-c29f801e9a73', node_type='4', metadata={'file_name': 'nhan xet.docx'}, hash='dc42f77366115dcbfebe0a79ae68079bb172b7c69efdb9b56cd34233b115ca01'), <NodeRelationship.NEXT: '3'>: RelatedNodeInfo(node_id='c98d4436-aaec-4598-bdeb-1a68c1e187f3', node_type='1', metadata={}, hash='a9f7821c8a0085c9d94938079f8005ac0fdb1fca925a4c9f43fc5e5dc89bf52b')}, metadata_template='{key}: {value}', metadata_separator='\\n', text='Xin chào quý phụ huynh của lớp, sau đây em xin tổng hợp lại nội dung buổi học, slide cũng như đánh giá chung về quá trình học tập của lớp học GB230 trong tuần vừa qua: \\n\\n1/ Nội dung buổi học: \\n\\n-\\tTìm hiểu và làm quen với giao diện phần mềm GameMaker;\\n\\n-\\tCác khái niệm cơ cản trong GameMaker: sprite, background, event, action, room;\\n\\n-\\tThực hành lập trình trò chơi King Fish\\n\\n2/ Video Record buổi học:\\n\\nhttps://www.awesomescreenshot.com/video/42222598?key=1bc3404dfefb7abeef048a8b9c3f9dd9\\n\\n3/ Bài tập về nhà: \\n\\nCác bạn thực hiện bài tập trên nền tảng Denise qua đường link:\\n\\nhttps://base.mindx.edu.vn/login?callbackUrl=https://denise.mindx.edu.vn\\n\\n4/ Tình hình chung của lớp học: \\n\\nTrong buổi học hôm nay, hầu hết các bạn đều có thể hiểu và áp dụng các kiến thức để hoàn thành được phần bài trên lớp;\\n\\nTrong quá trình học, hầu hết các bạn đều tập trung và quan sát tốt khi thầy giảng bài, tuy nhiên vẫn còn số ít bạn chưa chú ý, quan sát tốt nên dẫn đến gặp nhiều sai sót trong quá trình lập trình;\\n\\nTại nhà, các bạn cần tích cực ôn tập, và thực hiện các nội dung bài tập để có thể cải thiện khả năng thao tác,', mimetype='text/plain', start_char_idx=0, end_char_idx=1110, metadata_seperator='\\n', text_template='{metadata_str}\\n\\n{content}'),\n",
       " 'c98d4436-aaec-4598-bdeb-1a68c1e187f3': TextNode(id_='c98d4436-aaec-4598-bdeb-1a68c1e187f3', embedding=None, metadata={'file_name': 'nhan xet.docx'}, excluded_embed_metadata_keys=[], excluded_llm_metadata_keys=[], relationships={<NodeRelationship.SOURCE: '1'>: RelatedNodeInfo(node_id='2b485c39-6a5d-450d-96fe-c29f801e9a73', node_type='4', metadata={'file_name': 'nhan xet.docx'}, hash='dc42f77366115dcbfebe0a79ae68079bb172b7c69efdb9b56cd34233b115ca01'), <NodeRelationship.PREVIOUS: '2'>: RelatedNodeInfo(node_id='f6df4955-b570-474e-b279-8903f96ba41e', node_type='1', metadata={'file_name': 'nhan xet.docx'}, hash='b073195d8cab155ab801e6e1e898cb572d4c9d4e2f3ab7a709707647c1f215b7'), <NodeRelationship.NEXT: '3'>: RelatedNodeInfo(node_id='d0d3d4c8-f222-4a21-8ded-b69e1485cb88', node_type='1', metadata={}, hash='0b5ba0d44fee6ef6eef64a539c856d9ddf6c3923b5600057dbb81017dd250957')}, metadata_template='{key}: {value}', metadata_separator='\\n', text='hầu hết các bạn đều có thể hiểu và áp dụng các kiến thức để hoàn thành được phần bài trên lớp;\\n\\nTrong quá trình học, hầu hết các bạn đều tập trung và quan sát tốt khi thầy giảng bài, tuy nhiên vẫn còn số ít bạn chưa chú ý, quan sát tốt nên dẫn đến gặp nhiều sai sót trong quá trình lập trình;\\n\\nTại nhà, các bạn cần tích cực ôn tập, và thực hiện các nội dung bài tập để có thể cải thiện khả năng thao tác, lập trình cũng như ghi nhớ các câu lệnh trong phần mềm Game Maker tốt hơn.\\n\\n5/ Nhận xét cá nhân:\\n\\nQuý phụ huynh vui lòng xem qua học bạ trực tuyến Compass.\\n\\n\\n\\n\\nXin chào quý phụ huynh của lớp, sau đây em xin tổng hợp lại nội dung buổi học, slide cũng như đánh giá chung về quá trình học tập của lớp học GB230 trong tuần vừa qua: \\n\\n1/ Nội dung buổi học: \\n\\nTìm hiểu khái niệm Frame per second (fps), tọa độ Oxy trong Game Maker;\\n\\nGiới thiệu Alarm, comment trong câu lệnh;\\n\\nThực hành lập trình tạo các nhân vật tự động cho sản phẩm King Fish.', mimetype='text/plain', start_char_idx=706, end_char_idx=1649, metadata_seperator='\\n', text_template='{metadata_str}\\n\\n{content}'),\n",
       " 'd0d3d4c8-f222-4a21-8ded-b69e1485cb88': TextNode(id_='d0d3d4c8-f222-4a21-8ded-b69e1485cb88', embedding=None, metadata={'file_name': 'nhan xet.docx'}, excluded_embed_metadata_keys=[], excluded_llm_metadata_keys=[], relationships={<NodeRelationship.SOURCE: '1'>: RelatedNodeInfo(node_id='2b485c39-6a5d-450d-96fe-c29f801e9a73', node_type='4', metadata={'file_name': 'nhan xet.docx'}, hash='dc42f77366115dcbfebe0a79ae68079bb172b7c69efdb9b56cd34233b115ca01'), <NodeRelationship.PREVIOUS: '2'>: RelatedNodeInfo(node_id='c98d4436-aaec-4598-bdeb-1a68c1e187f3', node_type='1', metadata={'file_name': 'nhan xet.docx'}, hash='7905183582f90a8d8a64e92f88907f100e5d63905c77f24999c8ca194d6233c6'), <NodeRelationship.NEXT: '3'>: RelatedNodeInfo(node_id='7eeb3d0e-d71d-4f76-ae1f-58898f1c0025', node_type='1', metadata={}, hash='449fcc76b558dfa0530a9983a0f599cdaa11ac9b8986eccd8d5167b9553cb1f4')}, metadata_template='{key}: {value}', metadata_separator='\\n', text='5/ Nhận xét cá nhân:\\n\\nQuý phụ huynh vui lòng xem qua học bạ trực tuyến Compass.\\n\\n\\n\\n\\nXin chào quý phụ huynh của lớp, sau đây em xin tổng hợp lại nội dung buổi học, slide cũng như đánh giá chung về quá trình học tập của lớp học GB230 trong tuần vừa qua: \\n\\n1/ Nội dung buổi học: \\n\\nTìm hiểu khái niệm Frame per second (fps), tọa độ Oxy trong Game Maker;\\n\\nGiới thiệu Alarm, comment trong câu lệnh;\\n\\nThực hành lập trình tạo các nhân vật tự động cho sản phẩm King Fish.\\n\\n2/ Video Record buổi học:\\n\\nhttps://www.awesomescreenshot.com/video/42473394?key=aa8559648feb0bc4d4356f71f61a517b\\n\\n3/ Bài tập về nhà: \\n\\nCác bạn thực hiện bài tập trên nền tảng Denise qua đường link:\\n\\nhttps://base.mindx.edu.vn/login?callbackUrl=https://denise.mindx.edu.vn\\n\\nTrong tuần qua, do một số bạn chưa nắm được cách thao tác với trang Denise và phần mềm Game Maker để lưu và nộp bài tập, do đó một số bạn còn chưa gửi đúng bài phần thực hành;\\n\\nTrong tuần này các bạn cần thực hiện lại chính xác và gửi lại cho thầy qua nền tảng Denise.', mimetype='text/plain', start_char_idx=1187, end_char_idx=2191, metadata_seperator='\\n', text_template='{metadata_str}\\n\\n{content}'),\n",
       " '7eeb3d0e-d71d-4f76-ae1f-58898f1c0025': TextNode(id_='7eeb3d0e-d71d-4f76-ae1f-58898f1c0025', embedding=None, metadata={'file_name': 'nhan xet.docx'}, excluded_embed_metadata_keys=[], excluded_llm_metadata_keys=[], relationships={<NodeRelationship.SOURCE: '1'>: RelatedNodeInfo(node_id='2b485c39-6a5d-450d-96fe-c29f801e9a73', node_type='4', metadata={'file_name': 'nhan xet.docx'}, hash='dc42f77366115dcbfebe0a79ae68079bb172b7c69efdb9b56cd34233b115ca01'), <NodeRelationship.PREVIOUS: '2'>: RelatedNodeInfo(node_id='d0d3d4c8-f222-4a21-8ded-b69e1485cb88', node_type='1', metadata={'file_name': 'nhan xet.docx'}, hash='d09f491a227bb48b60e588ecb8e14ac986baec4db5f5be248c86bb2c43f1ece4'), <NodeRelationship.NEXT: '3'>: RelatedNodeInfo(node_id='8f678a77-2a2a-4412-9837-044d2c9b2693', node_type='1', metadata={}, hash='cf7345f1659c183c90e8dc30edf7166cd8bff0c40ef157e69423b5789737a62a')}, metadata_template='{key}: {value}', metadata_separator='\\n', text='Về phần lý thuyết, một số bạn còn chủ quan, chưa đọc kỹ đề dẫn đến kết quả chưa tốt;\\n\\n4/ Tình hình chung của lớp học: \\n\\nTrong buổi học hôm nay, hầu hết các bạn đều có thể hiểu và áp dụng các kiến thức để hoàn thành được phần bài trên lớp;\\n\\nTrong quá trình học, các bạn có sự chủ động quan sát, trao đổi, tích cực phát biểu xây dựng bài;\\n\\nĐối với bạn Huy Tùng, trong buổi vừa rồi đường truyền mạng của bạn của bạn không tốt, do đó gặp khó khăn trong việc quan sát và thực hiện các nội dung buổi học tại nhà bạn cần xem lại các kiến thức và thực hiện lại phần bài trên lớp.\\n\\nTrong quá trình thực hiện bài tập, nếu gặp các khó khăn các bạn có thể liên hệ với thầy qua group này, hoặc qua tin nhắn riêng, thầy sẽ hỗ trợ trong thời gian sớm nhất.\\n\\n5/ Nhận xét cá nhân:\\n\\nQuý phụ huynh vui lòng xem qua học bạ trực tuyến Compass.', mimetype='text/plain', start_char_idx=2193, end_char_idx=3015, metadata_seperator='\\n', text_template='{metadata_str}\\n\\n{content}'),\n",
       " '8f678a77-2a2a-4412-9837-044d2c9b2693': TextNode(id_='8f678a77-2a2a-4412-9837-044d2c9b2693', embedding=None, metadata={'file_name': 'nhan xet.docx'}, excluded_embed_metadata_keys=[], excluded_llm_metadata_keys=[], relationships={<NodeRelationship.SOURCE: '1'>: RelatedNodeInfo(node_id='2b485c39-6a5d-450d-96fe-c29f801e9a73', node_type='4', metadata={'file_name': 'nhan xet.docx'}, hash='dc42f77366115dcbfebe0a79ae68079bb172b7c69efdb9b56cd34233b115ca01'), <NodeRelationship.PREVIOUS: '2'>: RelatedNodeInfo(node_id='7eeb3d0e-d71d-4f76-ae1f-58898f1c0025', node_type='1', metadata={'file_name': 'nhan xet.docx'}, hash='8561daa2f1aa121588cb714b400807fbf696c0d195fdfbab39ab91e6de02f899'), <NodeRelationship.NEXT: '3'>: RelatedNodeInfo(node_id='b8f1e091-2b48-4978-8315-6e9dadceae30', node_type='1', metadata={}, hash='a4366b7959db0458437cdedbcf03b3ffea3aefdae5a4ca18ec8b4678f83bf840')}, metadata_template='{key}: {value}', metadata_separator='\\n', text='Trong quá trình thực hiện bài tập, nếu gặp các khó khăn các bạn có thể liên hệ với thầy qua group này, hoặc qua tin nhắn riêng, thầy sẽ hỗ trợ trong thời gian sớm nhất.\\n\\n5/ Nhận xét cá nhân:\\n\\nQuý phụ huynh vui lòng xem qua học bạ trực tuyến Compass.\\n\\n\\n\\n\\nXin chào quý phụ huynh của lớp, sau đây em xin tổng hợp lại nội dung buổi học, slide cũng như đánh giá chung về quá trình học tập của lớp học GB228 trong tuần vừa qua: \\n\\n1/ Nội dung buổi học: \\n\\nTìm hiểu thành phần Path;\\n\\nTạo đàn cá tạo ra liên tục;\\n\\nTạo các màn chơi, di chuyển giữa các màn chơi;\\n\\n2/ Video Record buổi học:\\n\\nhttps://www.awesomescreenshot.com/video/42349603?key=3e7030f4d2b5b585887188e5de1c04bd\\n\\n3/ Bài tập về nhà: \\n\\nCác bạn thực hiện bài tập trên nền tảng Denise qua đường link:\\n\\nhttps://base.mindx.edu.vn/login?callbackUrl=https://denise.mindx.edu.vn\\n\\nTrong tuần qua, vẫn còn khá nhiều bạn chưa thực hiện các bài tập thực hành/ thực hiện chưa chính xác yêu cầu của đề bài, do đó các bạn cần thực hiện bổ sung trong tuần này.', mimetype='text/plain', start_char_idx=2766, end_char_idx=3762, metadata_seperator='\\n', text_template='{metadata_str}\\n\\n{content}'),\n",
       " 'b8f1e091-2b48-4978-8315-6e9dadceae30': TextNode(id_='b8f1e091-2b48-4978-8315-6e9dadceae30', embedding=None, metadata={'file_name': 'nhan xet.docx'}, excluded_embed_metadata_keys=[], excluded_llm_metadata_keys=[], relationships={<NodeRelationship.SOURCE: '1'>: RelatedNodeInfo(node_id='2b485c39-6a5d-450d-96fe-c29f801e9a73', node_type='4', metadata={'file_name': 'nhan xet.docx'}, hash='dc42f77366115dcbfebe0a79ae68079bb172b7c69efdb9b56cd34233b115ca01'), <NodeRelationship.PREVIOUS: '2'>: RelatedNodeInfo(node_id='8f678a77-2a2a-4412-9837-044d2c9b2693', node_type='1', metadata={'file_name': 'nhan xet.docx'}, hash='f420e6abe80e7c97e2594b49a864fbee0274be45f1fc469cb9550e09eb10506c')}, metadata_template='{key}: {value}', metadata_separator='\\n', text='4/ Tình hình chung của lớp học: \\n\\nTrong buổi học hôm nay, các bạn đã quen với giao diện hơn, nên một số thao tác đã có sự tiến bộ hơn; tuy nhiên còn một số bạn chưa thực hành tại nhà, dẫn đến tốc độ lập trình chưa tốt, ảnh hưởng đến việc học và tiếp thu của bạn so với lớp;\\n\\nPhần lớn các bạn đều chủ động, tích cực tương tác, phát biểu trong buổi học, tuy nhiên còn số ít bạn trong buổi học chưa chủ động quan sát, tương tác nên còn gặp nhiều khó khăn trong việc tiếp thu và thao tác chính xác với phần mềm;\\n\\nTại nhà các bạn cần tiếp tục ôn tập, thực hiện các bài tập, tích cực sáng tạo thêm trên bài tập cũng như phần bài trên lớp để nâng cao khả năng lập trình của bản thân.\\n\\n5/ Nhận xét cá nhân:\\n\\nQuý phụ huynh vui lòng xem qua học bạ trực tuyến Compass.', mimetype='text/plain', start_char_idx=3764, end_char_idx=4521, metadata_seperator='\\n', text_template='{metadata_str}\\n\\n{content}'),\n",
       " '4db45baa-9ae7-4586-9d2e-beb56373d920': TextNode(id_='4db45baa-9ae7-4586-9d2e-beb56373d920', embedding=None, metadata={}, excluded_embed_metadata_keys=[], excluded_llm_metadata_keys=[], relationships={<NodeRelationship.SOURCE: '1'>: RelatedNodeInfo(node_id='3ee59b4d-1ba5-4848-881c-f82f2c0a0a7e', node_type='4', metadata={}, hash='6dadf8e7be27f4049becdbcff25f72947ba91129dbac557e684ada6c8b290ce2'), <NodeRelationship.NEXT: '3'>: RelatedNodeInfo(node_id='eeb486d1-1d49-44e6-85c9-b5bd916d2cc7', node_type='1', metadata={}, hash='6a270fdd9863667c4f4d90334c32b9834c67ded64748694f7e3654cb85d3c9c6')}, metadata_template='{key}: {value}', metadata_separator='\\n', text='Unnamed: 0: BẢNG ĐIỂM BÀI TẬP VỀ NHÀ BUỔI 1 - 4 CỦA LỚP GB12, Unnamed: 1: , Unnamed: 2: , Unnamed: 3: , Unnamed: 4: , Unnamed: 5: , Unnamed: 6: , Unnamed: 7: , Unnamed: 8: , Unnamed: 9: , Unnamed: 10: , Unnamed: 11: \\nUnnamed: 0: , Unnamed: 1: , Unnamed: 2: , Unnamed: 3: , Unnamed: 4: , Unnamed: 5: , Unnamed: 6: , Unnamed: 7: , Unnamed: 8: , Unnamed: 9: , Unnamed: 10: , Unnamed: 11: \\nUnnamed: 0: STT, Unnamed: 1: Họ và tên học viên, Unnamed: 2: Buổi 1, Unnamed: 3: , Unnamed: 4: Buổi 2, Unnamed: 5: , Unnamed: 6: Buổi 3, Unnamed: 7: , Unnamed: 8: Buổi 4, Unnamed: 9: , Unnamed: 10: Buổi 6, Unnamed: 11: \\nUnnamed: 0: , Unnamed: 1: , Unnamed: 2: Lý thuyết, Unnamed: 3: Thực hành, Unnamed: 4: Lý thuyết, Unnamed: 5: Thực hành, Unnamed: 6: Lý thuyết, Unnamed: 7: Thực hành, Unnamed: 8: Lý thuyết, Unnamed: 9: Thực hành, Unnamed: 10: Lý thuyết, Unnamed: 11: Thực hành\\nUnnamed: 0: 1, Unnamed: 1: Lương Tiến Phong, Unnamed: 2: 40, Unnamed: 3: 0, Unnamed: 4: 60, Unnamed: 5: -, Unnamed: 6: 50,', mimetype='text/plain', start_char_idx=0, end_char_idx=987, metadata_seperator='\\n', text_template='{metadata_str}\\n\\n{content}'),\n",
       " 'eeb486d1-1d49-44e6-85c9-b5bd916d2cc7': TextNode(id_='eeb486d1-1d49-44e6-85c9-b5bd916d2cc7', embedding=None, metadata={}, excluded_embed_metadata_keys=[], excluded_llm_metadata_keys=[], relationships={<NodeRelationship.SOURCE: '1'>: RelatedNodeInfo(node_id='3ee59b4d-1ba5-4848-881c-f82f2c0a0a7e', node_type='4', metadata={}, hash='6dadf8e7be27f4049becdbcff25f72947ba91129dbac557e684ada6c8b290ce2'), <NodeRelationship.PREVIOUS: '2'>: RelatedNodeInfo(node_id='4db45baa-9ae7-4586-9d2e-beb56373d920', node_type='1', metadata={}, hash='8f939380566b7327fe1afd3bb2a4e9676774b9e03dd4bd10e1e6bd30795a95af'), <NodeRelationship.NEXT: '3'>: RelatedNodeInfo(node_id='16d7e8f4-625a-4e84-a5bb-f1af3ced3ab1', node_type='1', metadata={}, hash='ce09a2a8c84d0f3da628d26449b79ba821795a4bc666681ba2c5f3be3a220808')}, metadata_template='{key}: {value}', metadata_separator='\\n', text='Unnamed: 11: \\nUnnamed: 0: , Unnamed: 1: , Unnamed: 2: Lý thuyết, Unnamed: 3: Thực hành, Unnamed: 4: Lý thuyết, Unnamed: 5: Thực hành, Unnamed: 6: Lý thuyết, Unnamed: 7: Thực hành, Unnamed: 8: Lý thuyết, Unnamed: 9: Thực hành, Unnamed: 10: Lý thuyết, Unnamed: 11: Thực hành\\nUnnamed: 0: 1, Unnamed: 1: Lương Tiến Phong, Unnamed: 2: 40, Unnamed: 3: 0, Unnamed: 4: 60, Unnamed: 5: -, Unnamed: 6: 50, Unnamed: 7: 0, Unnamed: 8: 40, Unnamed: 9: -, Unnamed: 10: 40, Unnamed: 11: -\\nUnnamed: 0: 2, Unnamed: 1: Vũ Minh Triết, Unnamed: 2: 60, Unnamed: 3: 100, Unnamed: 4: 50, Unnamed: 5: 100, Unnamed: 6: 70, Unnamed: 7: 100, Unnamed: 8: 90, Unnamed: 9: 86, Unnamed: 10: 60, Unnamed: 11: 0\\nUnnamed: 0: 3, Unnamed: 1: Hà Duy Khôi, Unnamed: 2: 90, Unnamed: 3: 90, Unnamed: 4: 30, Unnamed: 5: 75, Unnamed: 6: 30, Unnamed: 7: 66, Unnamed: 8: 70, Unnamed: 9: 100, Unnamed: 10: 70, Unnamed: 11: -\\nUnnamed: 0: 4, Unnamed: 1: Phan Minh Khang, Unnamed: 2: 40, Unnamed: 3: 100, Unnamed: 4: 60,', mimetype='text/plain', start_char_idx=592, end_char_idx=1564, metadata_seperator='\\n', text_template='{metadata_str}\\n\\n{content}'),\n",
       " '16d7e8f4-625a-4e84-a5bb-f1af3ced3ab1': TextNode(id_='16d7e8f4-625a-4e84-a5bb-f1af3ced3ab1', embedding=None, metadata={}, excluded_embed_metadata_keys=[], excluded_llm_metadata_keys=[], relationships={<NodeRelationship.SOURCE: '1'>: RelatedNodeInfo(node_id='3ee59b4d-1ba5-4848-881c-f82f2c0a0a7e', node_type='4', metadata={}, hash='6dadf8e7be27f4049becdbcff25f72947ba91129dbac557e684ada6c8b290ce2'), <NodeRelationship.PREVIOUS: '2'>: RelatedNodeInfo(node_id='eeb486d1-1d49-44e6-85c9-b5bd916d2cc7', node_type='1', metadata={}, hash='6a270fdd9863667c4f4d90334c32b9834c67ded64748694f7e3654cb85d3c9c6'), <NodeRelationship.NEXT: '3'>: RelatedNodeInfo(node_id='fec9ab62-b88b-4e0a-8144-3a6871d5fa04', node_type='1', metadata={}, hash='25ad6778774ee9e59bacc5271a99d3d95f8a45875ab3c8f0c41a229a249dab65')}, metadata_template='{key}: {value}', metadata_separator='\\n', text='Unnamed: 8: 90, Unnamed: 9: 86, Unnamed: 10: 60, Unnamed: 11: 0\\nUnnamed: 0: 3, Unnamed: 1: Hà Duy Khôi, Unnamed: 2: 90, Unnamed: 3: 90, Unnamed: 4: 30, Unnamed: 5: 75, Unnamed: 6: 30, Unnamed: 7: 66, Unnamed: 8: 70, Unnamed: 9: 100, Unnamed: 10: 70, Unnamed: 11: -\\nUnnamed: 0: 4, Unnamed: 1: Phan Minh Khang, Unnamed: 2: 40, Unnamed: 3: 100, Unnamed: 4: 60, Unnamed: 5: 0, Unnamed: 6: 40, Unnamed: 7: 0, Unnamed: 8: 70, Unnamed: 9: -, Unnamed: 10: 70, Unnamed: 11: 70\\nUnnamed: 0: 5, Unnamed: 1: Trần Thanh Bình, Unnamed: 2: 90, Unnamed: 3: 100, Unnamed: 4: 30, Unnamed: 5: 0, Unnamed: 6: 90, Unnamed: 7: 100, Unnamed: 8: 70, Unnamed: 9: -, Unnamed: 10: 50, Unnamed: 11: 95\\nUnnamed: 0: 6, Unnamed: 1: Lê Tuấn Kiệt, Unnamed: 2: 80, Unnamed: 3: 90, Unnamed: 4: 30, Unnamed: 5: 0, Unnamed: 6: 80, Unnamed: 7: 80, Unnamed: 8: 90, Unnamed: 9: 70, Unnamed: 10: 40, Unnamed: 11: 80\\nUnnamed: 0: 7, Unnamed: 1: Nguyễn Bảo Khang, Unnamed: 2: 70,', mimetype='text/plain', start_char_idx=1207, end_char_idx=2141, metadata_seperator='\\n', text_template='{metadata_str}\\n\\n{content}'),\n",
       " 'fec9ab62-b88b-4e0a-8144-3a6871d5fa04': TextNode(id_='fec9ab62-b88b-4e0a-8144-3a6871d5fa04', embedding=None, metadata={}, excluded_embed_metadata_keys=[], excluded_llm_metadata_keys=[], relationships={<NodeRelationship.SOURCE: '1'>: RelatedNodeInfo(node_id='3ee59b4d-1ba5-4848-881c-f82f2c0a0a7e', node_type='4', metadata={}, hash='6dadf8e7be27f4049becdbcff25f72947ba91129dbac557e684ada6c8b290ce2'), <NodeRelationship.PREVIOUS: '2'>: RelatedNodeInfo(node_id='16d7e8f4-625a-4e84-a5bb-f1af3ced3ab1', node_type='1', metadata={}, hash='ce09a2a8c84d0f3da628d26449b79ba821795a4bc666681ba2c5f3be3a220808'), <NodeRelationship.NEXT: '3'>: RelatedNodeInfo(node_id='5ef44a45-0e23-4a72-a6e8-c1f1fd26dffd', node_type='1', metadata={}, hash='c31bdc1090de36bf7430c4e89c0aa8f17305fc29406686bac34b80965372ee69')}, metadata_template='{key}: {value}', metadata_separator='\\n', text='Unnamed: 6: 90, Unnamed: 7: 100, Unnamed: 8: 70, Unnamed: 9: -, Unnamed: 10: 50, Unnamed: 11: 95\\nUnnamed: 0: 6, Unnamed: 1: Lê Tuấn Kiệt, Unnamed: 2: 80, Unnamed: 3: 90, Unnamed: 4: 30, Unnamed: 5: 0, Unnamed: 6: 80, Unnamed: 7: 80, Unnamed: 8: 90, Unnamed: 9: 70, Unnamed: 10: 40, Unnamed: 11: 80\\nUnnamed: 0: 7, Unnamed: 1: Nguyễn Bảo Khang, Unnamed: 2: 70, Unnamed: 3: 0, Unnamed: 4: 50, Unnamed: 5: 100, Unnamed: 6: 80, Unnamed: 7: 100, Unnamed: 8: 90, Unnamed: 9: 100, Unnamed: 10: 60, Unnamed: 11: -\\nUnnamed: 0: 8, Unnamed: 1: Trần Công Thiên Long, Unnamed: 2: -, Unnamed: 3: -, Unnamed: 4: -, Unnamed: 5: -, Unnamed: 6: -, Unnamed: 7: -, Unnamed: 8: -, Unnamed: 9: -, Unnamed: 10: 20, Unnamed: 11: -\\nUnnamed: 0: , Unnamed: 1: , Unnamed: 2: , Unnamed: 3: , Unnamed: 4: , Unnamed: 5: , Unnamed: 6: , Unnamed: 7: , Unnamed: 8: , Unnamed: 9: , Unnamed: 10: 51.25, Unnamed: 11: \\nUnnamed: 0: , Unnamed: 1: Trong đó:, Unnamed: 2: , Unnamed: 3: , Unnamed: 4: , Unnamed: 5: , Unnamed: 6: ,', mimetype='text/plain', start_char_idx=1783, end_char_idx=2769, metadata_seperator='\\n', text_template='{metadata_str}\\n\\n{content}'),\n",
       " '5ef44a45-0e23-4a72-a6e8-c1f1fd26dffd': TextNode(id_='5ef44a45-0e23-4a72-a6e8-c1f1fd26dffd', embedding=None, metadata={}, excluded_embed_metadata_keys=[], excluded_llm_metadata_keys=[], relationships={<NodeRelationship.SOURCE: '1'>: RelatedNodeInfo(node_id='3ee59b4d-1ba5-4848-881c-f82f2c0a0a7e', node_type='4', metadata={}, hash='6dadf8e7be27f4049becdbcff25f72947ba91129dbac557e684ada6c8b290ce2'), <NodeRelationship.PREVIOUS: '2'>: RelatedNodeInfo(node_id='fec9ab62-b88b-4e0a-8144-3a6871d5fa04', node_type='1', metadata={}, hash='25ad6778774ee9e59bacc5271a99d3d95f8a45875ab3c8f0c41a229a249dab65')}, metadata_template='{key}: {value}', metadata_separator='\\n', text='Unnamed: 4: -, Unnamed: 5: -, Unnamed: 6: -, Unnamed: 7: -, Unnamed: 8: -, Unnamed: 9: -, Unnamed: 10: 20, Unnamed: 11: -\\nUnnamed: 0: , Unnamed: 1: , Unnamed: 2: , Unnamed: 3: , Unnamed: 4: , Unnamed: 5: , Unnamed: 6: , Unnamed: 7: , Unnamed: 8: , Unnamed: 9: , Unnamed: 10: 51.25, Unnamed: 11: \\nUnnamed: 0: , Unnamed: 1: Trong đó:, Unnamed: 2: , Unnamed: 3: , Unnamed: 4: , Unnamed: 5: , Unnamed: 6: , Unnamed: 7: , Unnamed: 8: , Unnamed: 9: , Unnamed: 10: , Unnamed: 11: \\nUnnamed: 0: , Unnamed: 1: \"-\": chưa thực hiện, Unnamed: 2: , Unnamed: 3: , Unnamed: 4: , Unnamed: 5: , Unnamed: 6: , Unnamed: 7: , Unnamed: 8: , Unnamed: 9: , Unnamed: 10: , Unnamed: 11: \\nUnnamed: 0: , Unnamed: 1: 0 điểm: các bạn nộp sai định dạng file, Unnamed: 2: , Unnamed: 3: , Unnamed: 4: , Unnamed: 5: , Unnamed: 6: , Unnamed: 7: , Unnamed: 8: , Unnamed: 9: , Unnamed: 10: , Unnamed: 11:', mimetype='text/plain', start_char_idx=2367, end_char_idx=3234, metadata_seperator='\\n', text_template='{metadata_str}\\n\\n{content}'),\n",
       " '4714e996-17e1-48cb-9efc-0dbbe2759d41': TextNode(id_='4714e996-17e1-48cb-9efc-0dbbe2759d41', embedding=None, metadata={}, excluded_embed_metadata_keys=[], excluded_llm_metadata_keys=[], relationships={<NodeRelationship.SOURCE: '1'>: RelatedNodeInfo(node_id='fd08ed6e-b757-45fa-a0ee-4a9af1f17e73', node_type='4', metadata={}, hash='5abc971714457adc3ce6b453b1b88b8d685f7cb17b42c70eef37c8b55e063120')}, metadata_template='{key}: {value}', metadata_separator='\\n', text='STT: 1, Họ và tên học viên: Hà Gia Bảo, Rank: 2, Điểm cộng: 1.0, TN: 3.5, TH: 5.0, note: 1 5 7, Tổng: 9.5, Unnamed: 8: 0.0\\nSTT: 2, Họ và tên học viên: Vũ Minh Triết, Rank: 3, Điểm cộng: 0.35, TN: 3.5, TH: 3.5, note: 4 5 9\\nDùng speed và direction để lập trình thay vì dùng hspeed, vspeed,\\nChưa đổi sprite\\nPhần đếm chưa tối ưu, Tổng: 7.35, Unnamed: 8: 0.0\\nSTT: 3, Họ và tên học viên: Hà Duy Khôi, Rank: 5, Điểm cộng: 0.0, TN: 4.0, TH: 4.5, note: 2 9\\nThiếu phần xóa object, Tổng: 8.5, Unnamed: 8: 0.0\\nSTT: 4, Họ và tên học viên: Trần Thanh Bình, Rank: 4, Điểm cộng: 0.2, TN: 3.5, TH: 4.5, note: 2 3 5\\nChưa xóa được object (chưa đặt lại biến step), Tổng: 8.2, Unnamed: 8: 0.0\\nSTT: 5, Họ và tên học viên: Lê Tuấn Kiệt, Rank: 1, Điểm cộng: 1.25, TN: 4.5, TH: 5.0, note: 9, Tổng: 10.75, Unnamed: 8: 0.75', mimetype='text/plain', start_char_idx=0, end_char_idx=796, metadata_seperator='\\n', text_template='{metadata_str}\\n\\n{content}'),\n",
       " 'cbe05604-ad52-4bbf-8d51-03bba03ffe0a': TextNode(id_='cbe05604-ad52-4bbf-8d51-03bba03ffe0a', embedding=None, metadata={}, excluded_embed_metadata_keys=[], excluded_llm_metadata_keys=[], relationships={<NodeRelationship.SOURCE: '1'>: RelatedNodeInfo(node_id='c0fe2acb-a711-493a-88ed-dc8b29a8a833', node_type='4', metadata={}, hash='6941ec0655cea97c72666a59e6a578e159c83e7e8fac654d6db0919726183860'), <NodeRelationship.NEXT: '3'>: RelatedNodeInfo(node_id='9b4c8c85-40fe-4f40-9c7f-fd6b45a36e5c', node_type='1', metadata={}, hash='7c03fb69f0bc14ee9e1d4fbf4e7a4f74df89f11005aa7037927c519ef631731e')}, metadata_template='{key}: {value}', metadata_separator='\\n', text='Unnamed: 0: BẢNG ĐIỂM BÀI TẬP VỀ NHÀ BUỔI 1 - 6 CỦA LỚP GI12, Unnamed: 1: , Unnamed: 2: , Unnamed: 3: , Unnamed: 4: , Unnamed: 5: , Unnamed: 6: , Unnamed: 7: , Unnamed: 8: , Unnamed: 9: , Unnamed: 10: , Unnamed: 11: \\nUnnamed: 0: , Unnamed: 1: , Unnamed: 2: , Unnamed: 3: , Unnamed: 4: , Unnamed: 5: , Unnamed: 6: , Unnamed: 7: , Unnamed: 8: , Unnamed: 9: , Unnamed: 10: , Unnamed: 11: \\nUnnamed: 0: STT, Unnamed: 1: Họ và tên học viên, Unnamed: 2: Buổi 1, Unnamed: 3: , Unnamed: 4: Buổi 2, Unnamed: 5: , Unnamed: 6: Buổi 3, Unnamed: 7: , Unnamed: 8: Buổi 4, Unnamed: 9: , Unnamed: 10: Buổi 6, Unnamed: 11: \\nUnnamed: 0: , Unnamed: 1: , Unnamed: 2: Lý thuyết, Unnamed: 3: Thực hành, Unnamed: 4: Lý thuyết, Unnamed: 5: Thực hành, Unnamed: 6: Lý thuyết, Unnamed: 7: Thực hành, Unnamed: 8: Lý thuyết, Unnamed: 9: Thực hành, Unnamed: 10: Lý thuyết, Unnamed: 11: Thực hành\\nUnnamed: 0: 1, Unnamed: 1: Hà Gia Bảo, Unnamed: 2: 50, Unnamed: 3: 90, Unnamed: 4: 100, Unnamed: 5: 100,', mimetype='text/plain', start_char_idx=0, end_char_idx=969, metadata_seperator='\\n', text_template='{metadata_str}\\n\\n{content}'),\n",
       " '9b4c8c85-40fe-4f40-9c7f-fd6b45a36e5c': TextNode(id_='9b4c8c85-40fe-4f40-9c7f-fd6b45a36e5c', embedding=None, metadata={}, excluded_embed_metadata_keys=[], excluded_llm_metadata_keys=[], relationships={<NodeRelationship.SOURCE: '1'>: RelatedNodeInfo(node_id='c0fe2acb-a711-493a-88ed-dc8b29a8a833', node_type='4', metadata={}, hash='6941ec0655cea97c72666a59e6a578e159c83e7e8fac654d6db0919726183860'), <NodeRelationship.PREVIOUS: '2'>: RelatedNodeInfo(node_id='cbe05604-ad52-4bbf-8d51-03bba03ffe0a', node_type='1', metadata={}, hash='2b4d7c732a685dd1d9254c155cdccb8f70ea8e32dd85c9414309e5d24b95cf66'), <NodeRelationship.NEXT: '3'>: RelatedNodeInfo(node_id='4eafc88d-6192-4888-b521-07e4436c0bb6', node_type='1', metadata={}, hash='3dce8fb3da11f625e4306520a0518453da4ea3f66ffce2a42ca987c0eae83324')}, metadata_template='{key}: {value}', metadata_separator='\\n', text='Unnamed: 11: \\nUnnamed: 0: , Unnamed: 1: , Unnamed: 2: Lý thuyết, Unnamed: 3: Thực hành, Unnamed: 4: Lý thuyết, Unnamed: 5: Thực hành, Unnamed: 6: Lý thuyết, Unnamed: 7: Thực hành, Unnamed: 8: Lý thuyết, Unnamed: 9: Thực hành, Unnamed: 10: Lý thuyết, Unnamed: 11: Thực hành\\nUnnamed: 0: 1, Unnamed: 1: Hà Gia Bảo, Unnamed: 2: 50, Unnamed: 3: 90, Unnamed: 4: 100, Unnamed: 5: 100, Unnamed: 6: 70, Unnamed: 7: 100, Unnamed: 8: 70, Unnamed: 9: 100, Unnamed: 10: 80, Unnamed: 11: 100\\nUnnamed: 0: 2, Unnamed: 1: Vũ Minh Triết, Unnamed: 2: 70, Unnamed: 3: 90, Unnamed: 4: 60, Unnamed: 5: 90, Unnamed: 6: 40, Unnamed: 7: 90, Unnamed: 8: 90, Unnamed: 9: 100, Unnamed: 10: 60, Unnamed: 11: -\\nUnnamed: 0: 3, Unnamed: 1: Hà Duy Khôi, Unnamed: 2: 60, Unnamed: 3: 100, Unnamed: 4: 80, Unnamed: 5: 80, Unnamed: 6: 70, Unnamed: 7: 0, Unnamed: 8: 70, Unnamed: 9: 100, Unnamed: 10: 50, Unnamed: 11: -\\nUnnamed: 0: 4, Unnamed: 1: Trần Thanh Bình, Unnamed: 2: 90, Unnamed: 3: 90,', mimetype='text/plain', start_char_idx=592, end_char_idx=1549, metadata_seperator='\\n', text_template='{metadata_str}\\n\\n{content}'),\n",
       " '4eafc88d-6192-4888-b521-07e4436c0bb6': TextNode(id_='4eafc88d-6192-4888-b521-07e4436c0bb6', embedding=None, metadata={}, excluded_embed_metadata_keys=[], excluded_llm_metadata_keys=[], relationships={<NodeRelationship.SOURCE: '1'>: RelatedNodeInfo(node_id='c0fe2acb-a711-493a-88ed-dc8b29a8a833', node_type='4', metadata={}, hash='6941ec0655cea97c72666a59e6a578e159c83e7e8fac654d6db0919726183860'), <NodeRelationship.PREVIOUS: '2'>: RelatedNodeInfo(node_id='9b4c8c85-40fe-4f40-9c7f-fd6b45a36e5c', node_type='1', metadata={}, hash='7c03fb69f0bc14ee9e1d4fbf4e7a4f74df89f11005aa7037927c519ef631731e'), <NodeRelationship.NEXT: '3'>: RelatedNodeInfo(node_id='ca374f14-bb07-45bd-917d-6d27d5bfda0e', node_type='1', metadata={}, hash='c336295d121fae784e8e5cee6752176d9598cbbfb09cd47d8a13977e242976e3')}, metadata_template='{key}: {value}', metadata_separator='\\n', text='Unnamed: 7: 90, Unnamed: 8: 90, Unnamed: 9: 100, Unnamed: 10: 60, Unnamed: 11: -\\nUnnamed: 0: 3, Unnamed: 1: Hà Duy Khôi, Unnamed: 2: 60, Unnamed: 3: 100, Unnamed: 4: 80, Unnamed: 5: 80, Unnamed: 6: 70, Unnamed: 7: 0, Unnamed: 8: 70, Unnamed: 9: 100, Unnamed: 10: 50, Unnamed: 11: -\\nUnnamed: 0: 4, Unnamed: 1: Trần Thanh Bình, Unnamed: 2: 90, Unnamed: 3: 90, Unnamed: 4: 80, Unnamed: 5: 70, Unnamed: 6: 70, Unnamed: 7: 90, Unnamed: 8: 80, Unnamed: 9: 95, Unnamed: 10: 50, Unnamed: 11: -\\nUnnamed: 0: 5, Unnamed: 1: Lê Tuấn Kiệt, Unnamed: 2: 70, Unnamed: 3: 100, Unnamed: 4: 90, Unnamed: 5: 95, Unnamed: 6: 90, Unnamed: 7: 95, Unnamed: 8: 80, Unnamed: 9: 95, Unnamed: 10: 80, Unnamed: 11: 100\\nUnnamed: 0: , Unnamed: 1: , Unnamed: 2: , Unnamed: 3: , Unnamed: 4: , Unnamed: 5: , Unnamed: 6: , Unnamed: 7: , Unnamed: 8: , Unnamed: 9: , Unnamed: 10: , Unnamed: 11: \\nUnnamed: 0: , Unnamed: 1: Trong đó:, Unnamed: 2: , Unnamed: 3: , Unnamed: 4: , Unnamed: 5: , Unnamed: 6: ,', mimetype='text/plain', start_char_idx=1192, end_char_idx=2157, metadata_seperator='\\n', text_template='{metadata_str}\\n\\n{content}'),\n",
       " 'ca374f14-bb07-45bd-917d-6d27d5bfda0e': TextNode(id_='ca374f14-bb07-45bd-917d-6d27d5bfda0e', embedding=None, metadata={}, excluded_embed_metadata_keys=[], excluded_llm_metadata_keys=[], relationships={<NodeRelationship.SOURCE: '1'>: RelatedNodeInfo(node_id='c0fe2acb-a711-493a-88ed-dc8b29a8a833', node_type='4', metadata={}, hash='6941ec0655cea97c72666a59e6a578e159c83e7e8fac654d6db0919726183860'), <NodeRelationship.PREVIOUS: '2'>: RelatedNodeInfo(node_id='4eafc88d-6192-4888-b521-07e4436c0bb6', node_type='1', metadata={}, hash='3dce8fb3da11f625e4306520a0518453da4ea3f66ffce2a42ca987c0eae83324')}, metadata_template='{key}: {value}', metadata_separator='\\n', text='Unnamed: 5: 95, Unnamed: 6: 90, Unnamed: 7: 95, Unnamed: 8: 80, Unnamed: 9: 95, Unnamed: 10: 80, Unnamed: 11: 100\\nUnnamed: 0: , Unnamed: 1: , Unnamed: 2: , Unnamed: 3: , Unnamed: 4: , Unnamed: 5: , Unnamed: 6: , Unnamed: 7: , Unnamed: 8: , Unnamed: 9: , Unnamed: 10: , Unnamed: 11: \\nUnnamed: 0: , Unnamed: 1: Trong đó:, Unnamed: 2: , Unnamed: 3: , Unnamed: 4: , Unnamed: 5: , Unnamed: 6: , Unnamed: 7: , Unnamed: 8: , Unnamed: 9: , Unnamed: 10: , Unnamed: 11: \\nUnnamed: 0: , Unnamed: 1: \"-\": chưa thực hiện, Unnamed: 2: , Unnamed: 3: , Unnamed: 4: , Unnamed: 5: , Unnamed: 6: , Unnamed: 7: , Unnamed: 8: , Unnamed: 9: , Unnamed: 10: , Unnamed: 11: \\nUnnamed: 0: , Unnamed: 1: 0 điểm: chưa nộp lại, Unnamed: 2: , Unnamed: 3: , Unnamed: 4: , Unnamed: 5: , Unnamed: 6: , Unnamed: 7: , Unnamed: 8: , Unnamed: 9: , Unnamed: 10: , Unnamed: 11:', mimetype='text/plain', start_char_idx=1768, end_char_idx=2604, metadata_seperator='\\n', text_template='{metadata_str}\\n\\n{content}'),\n",
       " '474c84fe-40b7-4bc2-83e1-5af1c64d1f60': TextNode(id_='474c84fe-40b7-4bc2-83e1-5af1c64d1f60', embedding=None, metadata={'file_name': 'nhan xet.docx'}, excluded_embed_metadata_keys=[], excluded_llm_metadata_keys=[], relationships={<NodeRelationship.SOURCE: '1'>: RelatedNodeInfo(node_id='2b485c39-6a5d-450d-96fe-c29f801e9a73', node_type='4', metadata={'file_name': 'nhan xet.docx'}, hash='dc42f77366115dcbfebe0a79ae68079bb172b7c69efdb9b56cd34233b115ca01'), <NodeRelationship.NEXT: '3'>: RelatedNodeInfo(node_id='19de8fcd-dc0b-4fa1-9247-4477697a631d', node_type='1', metadata={}, hash='a9f7821c8a0085c9d94938079f8005ac0fdb1fca925a4c9f43fc5e5dc89bf52b')}, metadata_template='{key}: {value}', metadata_separator='\\n', text='Xin chào quý phụ huynh của lớp, sau đây em xin tổng hợp lại nội dung buổi học, slide cũng như đánh giá chung về quá trình học tập của lớp học GB230 trong tuần vừa qua: \\n\\n1/ Nội dung buổi học: \\n\\n-\\tTìm hiểu và làm quen với giao diện phần mềm GameMaker;\\n\\n-\\tCác khái niệm cơ cản trong GameMaker: sprite, background, event, action, room;\\n\\n-\\tThực hành lập trình trò chơi King Fish\\n\\n2/ Video Record buổi học:\\n\\nhttps://www.awesomescreenshot.com/video/42222598?key=1bc3404dfefb7abeef048a8b9c3f9dd9\\n\\n3/ Bài tập về nhà: \\n\\nCác bạn thực hiện bài tập trên nền tảng Denise qua đường link:\\n\\nhttps://base.mindx.edu.vn/login?callbackUrl=https://denise.mindx.edu.vn\\n\\n4/ Tình hình chung của lớp học: \\n\\nTrong buổi học hôm nay, hầu hết các bạn đều có thể hiểu và áp dụng các kiến thức để hoàn thành được phần bài trên lớp;\\n\\nTrong quá trình học, hầu hết các bạn đều tập trung và quan sát tốt khi thầy giảng bài, tuy nhiên vẫn còn số ít bạn chưa chú ý, quan sát tốt nên dẫn đến gặp nhiều sai sót trong quá trình lập trình;\\n\\nTại nhà, các bạn cần tích cực ôn tập, và thực hiện các nội dung bài tập để có thể cải thiện khả năng thao tác,', mimetype='text/plain', start_char_idx=0, end_char_idx=1110, metadata_seperator='\\n', text_template='{metadata_str}\\n\\n{content}'),\n",
       " '19de8fcd-dc0b-4fa1-9247-4477697a631d': TextNode(id_='19de8fcd-dc0b-4fa1-9247-4477697a631d', embedding=None, metadata={'file_name': 'nhan xet.docx'}, excluded_embed_metadata_keys=[], excluded_llm_metadata_keys=[], relationships={<NodeRelationship.SOURCE: '1'>: RelatedNodeInfo(node_id='2b485c39-6a5d-450d-96fe-c29f801e9a73', node_type='4', metadata={'file_name': 'nhan xet.docx'}, hash='dc42f77366115dcbfebe0a79ae68079bb172b7c69efdb9b56cd34233b115ca01'), <NodeRelationship.PREVIOUS: '2'>: RelatedNodeInfo(node_id='474c84fe-40b7-4bc2-83e1-5af1c64d1f60', node_type='1', metadata={'file_name': 'nhan xet.docx'}, hash='b073195d8cab155ab801e6e1e898cb572d4c9d4e2f3ab7a709707647c1f215b7'), <NodeRelationship.NEXT: '3'>: RelatedNodeInfo(node_id='e13096de-8cf8-4fe8-bdc3-95c02951a35d', node_type='1', metadata={}, hash='0b5ba0d44fee6ef6eef64a539c856d9ddf6c3923b5600057dbb81017dd250957')}, metadata_template='{key}: {value}', metadata_separator='\\n', text='hầu hết các bạn đều có thể hiểu và áp dụng các kiến thức để hoàn thành được phần bài trên lớp;\\n\\nTrong quá trình học, hầu hết các bạn đều tập trung và quan sát tốt khi thầy giảng bài, tuy nhiên vẫn còn số ít bạn chưa chú ý, quan sát tốt nên dẫn đến gặp nhiều sai sót trong quá trình lập trình;\\n\\nTại nhà, các bạn cần tích cực ôn tập, và thực hiện các nội dung bài tập để có thể cải thiện khả năng thao tác, lập trình cũng như ghi nhớ các câu lệnh trong phần mềm Game Maker tốt hơn.\\n\\n5/ Nhận xét cá nhân:\\n\\nQuý phụ huynh vui lòng xem qua học bạ trực tuyến Compass.\\n\\n\\n\\n\\nXin chào quý phụ huynh của lớp, sau đây em xin tổng hợp lại nội dung buổi học, slide cũng như đánh giá chung về quá trình học tập của lớp học GB230 trong tuần vừa qua: \\n\\n1/ Nội dung buổi học: \\n\\nTìm hiểu khái niệm Frame per second (fps), tọa độ Oxy trong Game Maker;\\n\\nGiới thiệu Alarm, comment trong câu lệnh;\\n\\nThực hành lập trình tạo các nhân vật tự động cho sản phẩm King Fish.', mimetype='text/plain', start_char_idx=706, end_char_idx=1649, metadata_seperator='\\n', text_template='{metadata_str}\\n\\n{content}'),\n",
       " 'e13096de-8cf8-4fe8-bdc3-95c02951a35d': TextNode(id_='e13096de-8cf8-4fe8-bdc3-95c02951a35d', embedding=None, metadata={'file_name': 'nhan xet.docx'}, excluded_embed_metadata_keys=[], excluded_llm_metadata_keys=[], relationships={<NodeRelationship.SOURCE: '1'>: RelatedNodeInfo(node_id='2b485c39-6a5d-450d-96fe-c29f801e9a73', node_type='4', metadata={'file_name': 'nhan xet.docx'}, hash='dc42f77366115dcbfebe0a79ae68079bb172b7c69efdb9b56cd34233b115ca01'), <NodeRelationship.PREVIOUS: '2'>: RelatedNodeInfo(node_id='19de8fcd-dc0b-4fa1-9247-4477697a631d', node_type='1', metadata={'file_name': 'nhan xet.docx'}, hash='7905183582f90a8d8a64e92f88907f100e5d63905c77f24999c8ca194d6233c6'), <NodeRelationship.NEXT: '3'>: RelatedNodeInfo(node_id='566d5e26-b2d3-4e5b-a9e3-21cb4396b849', node_type='1', metadata={}, hash='449fcc76b558dfa0530a9983a0f599cdaa11ac9b8986eccd8d5167b9553cb1f4')}, metadata_template='{key}: {value}', metadata_separator='\\n', text='5/ Nhận xét cá nhân:\\n\\nQuý phụ huynh vui lòng xem qua học bạ trực tuyến Compass.\\n\\n\\n\\n\\nXin chào quý phụ huynh của lớp, sau đây em xin tổng hợp lại nội dung buổi học, slide cũng như đánh giá chung về quá trình học tập của lớp học GB230 trong tuần vừa qua: \\n\\n1/ Nội dung buổi học: \\n\\nTìm hiểu khái niệm Frame per second (fps), tọa độ Oxy trong Game Maker;\\n\\nGiới thiệu Alarm, comment trong câu lệnh;\\n\\nThực hành lập trình tạo các nhân vật tự động cho sản phẩm King Fish.\\n\\n2/ Video Record buổi học:\\n\\nhttps://www.awesomescreenshot.com/video/42473394?key=aa8559648feb0bc4d4356f71f61a517b\\n\\n3/ Bài tập về nhà: \\n\\nCác bạn thực hiện bài tập trên nền tảng Denise qua đường link:\\n\\nhttps://base.mindx.edu.vn/login?callbackUrl=https://denise.mindx.edu.vn\\n\\nTrong tuần qua, do một số bạn chưa nắm được cách thao tác với trang Denise và phần mềm Game Maker để lưu và nộp bài tập, do đó một số bạn còn chưa gửi đúng bài phần thực hành;\\n\\nTrong tuần này các bạn cần thực hiện lại chính xác và gửi lại cho thầy qua nền tảng Denise.', mimetype='text/plain', start_char_idx=1187, end_char_idx=2191, metadata_seperator='\\n', text_template='{metadata_str}\\n\\n{content}'),\n",
       " '566d5e26-b2d3-4e5b-a9e3-21cb4396b849': TextNode(id_='566d5e26-b2d3-4e5b-a9e3-21cb4396b849', embedding=None, metadata={'file_name': 'nhan xet.docx'}, excluded_embed_metadata_keys=[], excluded_llm_metadata_keys=[], relationships={<NodeRelationship.SOURCE: '1'>: RelatedNodeInfo(node_id='2b485c39-6a5d-450d-96fe-c29f801e9a73', node_type='4', metadata={'file_name': 'nhan xet.docx'}, hash='dc42f77366115dcbfebe0a79ae68079bb172b7c69efdb9b56cd34233b115ca01'), <NodeRelationship.PREVIOUS: '2'>: RelatedNodeInfo(node_id='e13096de-8cf8-4fe8-bdc3-95c02951a35d', node_type='1', metadata={'file_name': 'nhan xet.docx'}, hash='d09f491a227bb48b60e588ecb8e14ac986baec4db5f5be248c86bb2c43f1ece4'), <NodeRelationship.NEXT: '3'>: RelatedNodeInfo(node_id='e36e7b39-2c4d-4cd4-b4bb-ef79a4ff58cb', node_type='1', metadata={}, hash='cf7345f1659c183c90e8dc30edf7166cd8bff0c40ef157e69423b5789737a62a')}, metadata_template='{key}: {value}', metadata_separator='\\n', text='Về phần lý thuyết, một số bạn còn chủ quan, chưa đọc kỹ đề dẫn đến kết quả chưa tốt;\\n\\n4/ Tình hình chung của lớp học: \\n\\nTrong buổi học hôm nay, hầu hết các bạn đều có thể hiểu và áp dụng các kiến thức để hoàn thành được phần bài trên lớp;\\n\\nTrong quá trình học, các bạn có sự chủ động quan sát, trao đổi, tích cực phát biểu xây dựng bài;\\n\\nĐối với bạn Huy Tùng, trong buổi vừa rồi đường truyền mạng của bạn của bạn không tốt, do đó gặp khó khăn trong việc quan sát và thực hiện các nội dung buổi học tại nhà bạn cần xem lại các kiến thức và thực hiện lại phần bài trên lớp.\\n\\nTrong quá trình thực hiện bài tập, nếu gặp các khó khăn các bạn có thể liên hệ với thầy qua group này, hoặc qua tin nhắn riêng, thầy sẽ hỗ trợ trong thời gian sớm nhất.\\n\\n5/ Nhận xét cá nhân:\\n\\nQuý phụ huynh vui lòng xem qua học bạ trực tuyến Compass.', mimetype='text/plain', start_char_idx=2193, end_char_idx=3015, metadata_seperator='\\n', text_template='{metadata_str}\\n\\n{content}'),\n",
       " 'e36e7b39-2c4d-4cd4-b4bb-ef79a4ff58cb': TextNode(id_='e36e7b39-2c4d-4cd4-b4bb-ef79a4ff58cb', embedding=None, metadata={'file_name': 'nhan xet.docx'}, excluded_embed_metadata_keys=[], excluded_llm_metadata_keys=[], relationships={<NodeRelationship.SOURCE: '1'>: RelatedNodeInfo(node_id='2b485c39-6a5d-450d-96fe-c29f801e9a73', node_type='4', metadata={'file_name': 'nhan xet.docx'}, hash='dc42f77366115dcbfebe0a79ae68079bb172b7c69efdb9b56cd34233b115ca01'), <NodeRelationship.PREVIOUS: '2'>: RelatedNodeInfo(node_id='566d5e26-b2d3-4e5b-a9e3-21cb4396b849', node_type='1', metadata={'file_name': 'nhan xet.docx'}, hash='8561daa2f1aa121588cb714b400807fbf696c0d195fdfbab39ab91e6de02f899'), <NodeRelationship.NEXT: '3'>: RelatedNodeInfo(node_id='49c18ba8-626c-4749-98af-b7b02f88e540', node_type='1', metadata={}, hash='a4366b7959db0458437cdedbcf03b3ffea3aefdae5a4ca18ec8b4678f83bf840')}, metadata_template='{key}: {value}', metadata_separator='\\n', text='Trong quá trình thực hiện bài tập, nếu gặp các khó khăn các bạn có thể liên hệ với thầy qua group này, hoặc qua tin nhắn riêng, thầy sẽ hỗ trợ trong thời gian sớm nhất.\\n\\n5/ Nhận xét cá nhân:\\n\\nQuý phụ huynh vui lòng xem qua học bạ trực tuyến Compass.\\n\\n\\n\\n\\nXin chào quý phụ huynh của lớp, sau đây em xin tổng hợp lại nội dung buổi học, slide cũng như đánh giá chung về quá trình học tập của lớp học GB228 trong tuần vừa qua: \\n\\n1/ Nội dung buổi học: \\n\\nTìm hiểu thành phần Path;\\n\\nTạo đàn cá tạo ra liên tục;\\n\\nTạo các màn chơi, di chuyển giữa các màn chơi;\\n\\n2/ Video Record buổi học:\\n\\nhttps://www.awesomescreenshot.com/video/42349603?key=3e7030f4d2b5b585887188e5de1c04bd\\n\\n3/ Bài tập về nhà: \\n\\nCác bạn thực hiện bài tập trên nền tảng Denise qua đường link:\\n\\nhttps://base.mindx.edu.vn/login?callbackUrl=https://denise.mindx.edu.vn\\n\\nTrong tuần qua, vẫn còn khá nhiều bạn chưa thực hiện các bài tập thực hành/ thực hiện chưa chính xác yêu cầu của đề bài, do đó các bạn cần thực hiện bổ sung trong tuần này.', mimetype='text/plain', start_char_idx=2766, end_char_idx=3762, metadata_seperator='\\n', text_template='{metadata_str}\\n\\n{content}'),\n",
       " '49c18ba8-626c-4749-98af-b7b02f88e540': TextNode(id_='49c18ba8-626c-4749-98af-b7b02f88e540', embedding=None, metadata={'file_name': 'nhan xet.docx'}, excluded_embed_metadata_keys=[], excluded_llm_metadata_keys=[], relationships={<NodeRelationship.SOURCE: '1'>: RelatedNodeInfo(node_id='2b485c39-6a5d-450d-96fe-c29f801e9a73', node_type='4', metadata={'file_name': 'nhan xet.docx'}, hash='dc42f77366115dcbfebe0a79ae68079bb172b7c69efdb9b56cd34233b115ca01'), <NodeRelationship.PREVIOUS: '2'>: RelatedNodeInfo(node_id='e36e7b39-2c4d-4cd4-b4bb-ef79a4ff58cb', node_type='1', metadata={'file_name': 'nhan xet.docx'}, hash='f420e6abe80e7c97e2594b49a864fbee0274be45f1fc469cb9550e09eb10506c')}, metadata_template='{key}: {value}', metadata_separator='\\n', text='4/ Tình hình chung của lớp học: \\n\\nTrong buổi học hôm nay, các bạn đã quen với giao diện hơn, nên một số thao tác đã có sự tiến bộ hơn; tuy nhiên còn một số bạn chưa thực hành tại nhà, dẫn đến tốc độ lập trình chưa tốt, ảnh hưởng đến việc học và tiếp thu của bạn so với lớp;\\n\\nPhần lớn các bạn đều chủ động, tích cực tương tác, phát biểu trong buổi học, tuy nhiên còn số ít bạn trong buổi học chưa chủ động quan sát, tương tác nên còn gặp nhiều khó khăn trong việc tiếp thu và thao tác chính xác với phần mềm;\\n\\nTại nhà các bạn cần tiếp tục ôn tập, thực hiện các bài tập, tích cực sáng tạo thêm trên bài tập cũng như phần bài trên lớp để nâng cao khả năng lập trình của bản thân.\\n\\n5/ Nhận xét cá nhân:\\n\\nQuý phụ huynh vui lòng xem qua học bạ trực tuyến Compass.', mimetype='text/plain', start_char_idx=3764, end_char_idx=4521, metadata_seperator='\\n', text_template='{metadata_str}\\n\\n{content}')}"
      ]
     },
     "execution_count": 2,
     "metadata": {},
     "output_type": "execute_result"
    }
   ],
   "source": [
    "chatEngine.index.docstore.docs"
   ]
  },
  {
   "cell_type": "code",
   "execution_count": null,
   "id": "a648bdfd",
   "metadata": {},
   "outputs": [],
   "source": []
  },
  {
   "cell_type": "code",
   "execution_count": null,
   "metadata": {},
   "outputs": [],
   "source": []
  },
  {
   "cell_type": "code",
   "execution_count": 3,
   "id": "ced0fe12",
   "metadata": {},
   "outputs": [
    {
     "name": "stdout",
     "output_type": "stream",
     "text": [
      "Dựa trên thông tin bạn cung cấp, hiện tại trong file **nhan xet.docx** không có dữ liệu chi tiết về điểm trắc nghiệm, điểm thực hành hay danh sách bài tập còn thiếu của từng học sinh, bao gồm bạn Hà Gia Bảo lớp GI12. File chỉ tổng hợp nội dung buổi học, link video, bài tập về nhà và nhận xét chung của lớp GB230.\n",
      "\n",
      "**Để trả lời chính xác các câu hỏi của bạn về Hà Gia Bảo lớp GI12, bạn cần cung cấp thêm các thông tin sau:**\n",
      "- Bảng điểm hoặc kết quả kiểm tra của Hà Gia Bảo (nếu có).\n",
      "- Danh sách bài tập đã giao và bài tập Hà Gia Bảo đã nộp.\n",
      "\n",
      "**Tuy nhiên, dựa trên nội dung buổi học gần nhất (GB230), các bài tập được giao là:**\n",
      "- Thực hiện bài tập trên nền tảng Denise qua đường link: https://base.mindx.edu.vn/login?callbackUrl=https://denise.mindx.edu.vn\n",
      "\n",
      "**Nếu Hà Gia Bảo chưa hoàn thành bài tập trên nền tảng Denise, thì đây là bài tập còn thiếu của buổi học vừa qua.**\n",
      "\n",
      "**Tóm tắt:**\n",
      "- **Điểm trắc nghiệm, thực hành:** Chưa có thông tin cụ thể.\n",
      "- **Bài tập còn thiếu:** Nếu chưa làm bài tập trên Denise, thì đây là bài tập còn thiếu của buổi học vừa rồi.\n",
      "\n",
      "Nếu bạn có file điểm hoặc danh sách nộp bài, vui lòng cung cấp để mình hỗ trợ chi tiết hơn!\n",
      "****************************************************************************************************\n",
      "Dựa trên nội dung bạn cung cấp từ file **nhan xet.docx**, hiện tại chỉ có thông tin tổng hợp về lớp **GB230** trong tuần vừa qua, bao gồm nội dung buổi học, link video, bài tập về nhà và nhận xét chung. Không có thông tin cụ thể về tình hình học tập, nội dung buổi học, hay đánh giá của lớp **GB228**.\n",
      "\n",
      "**Tóm lại:**  \n",
      "- Trong file bạn cung cấp **không có thông tin về lớp GB228**.\n",
      "- Nếu bạn cần nhận xét hoặc tổng kết về lớp GB228, vui lòng cung cấp thêm dữ liệu liên quan đến lớp này (ví dụ: báo cáo, nhận xét, bảng điểm, nội dung buổi học của GB228).\n",
      "\n",
      "**Nếu bạn cần mẫu nhận xét hoặc tổng hợp cho lớp GB228, mình có thể hỗ trợ soạn mẫu dựa trên cấu trúc của lớp GB230. Bạn chỉ cần cung cấp thông tin chi tiết về lớp GB228.**\n"
     ]
    }
   ],
   "source": [
    "response = chatEngine.chat(\"Bạn Hà Gia Bảo lớp GI12 thực hiện bài kiểm tra với điểm trắc nghiệm, thực hành là bao nhiêu còn thiếu những bài tập của buổi học nào?\")\n",
    "print(response)\n",
    "print('*'*100)\n",
    "response = chatEngine.chat(\"lớp GB228 học ra sao?\")\n",
    "print(response)"
   ]
  }
 ],
 "metadata": {
  "kernelspec": {
   "display_name": "venv",
   "language": "python",
   "name": "python3"
  },
  "language_info": {
   "codemirror_mode": {
    "name": "ipython",
    "version": 3
   },
   "file_extension": ".py",
   "mimetype": "text/x-python",
   "name": "python",
   "nbconvert_exporter": "python",
   "pygments_lexer": "ipython3",
   "version": "3.12.3"
  }
 },
 "nbformat": 4,
 "nbformat_minor": 5
}
